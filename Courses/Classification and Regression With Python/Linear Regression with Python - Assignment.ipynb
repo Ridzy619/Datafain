{
 "cells": [
  {
   "cell_type": "markdown",
   "metadata": {},
   "source": [
    "![Datafain's logo](https://github.com/Ridzy619/Datafain/blob/master/Courses/Data%20Science%20Fundamentals/Day%201/Datafain%20logo.jpg?raw=true)\n",
    "\n",
    "# Linear Regression with Python\n",
    "\n",
    "This notebook illustration is part of [Datafain's](https://www.datafain.com) Fundamentals of Data Science Intermediate program delivered on 23/10/2020. The powerpoint presentation can be found in this [link](https://docs.google.com/presentation/d/1SfCxdMHKdaPS_tQIRA7YGM5QG4L5oAaskNbUKXGSp3o/edit?usp=sharing)\n",
    "\n",
    "\n",
    "The course was prepared by [Ridwan Salahuddeen](https://linkedin.com/in/ridwan-salahuddeen)."
   ]
  },
  {
   "cell_type": "markdown",
   "metadata": {},
   "source": [
    "# Instruction\n",
    ">Following the [Linear Regression with Python](https://github.com/Ridzy619/Datafain/blob/master/Courses/Classification%20and%20Regression%20With%20Python/Linear%20Regression%20with%20Python%20-%20Classwork.ipynb) tutorial as guide, build a machine learning model that classifies the **SmogRating** of 2018 model vehicles using the dataset listed on the [Government of Canada Website](https://open.canada.ca/data/en/dataset/98f1a129-f628-4ce4-b24d-6f16bf24dd64). The dataset can be directly downloaded [here](https://www.nrcan.gc.ca/sites/www.nrcan.gc.ca/files/oee/files/csv/MY2018%20Fuel%20Consumption%20Ratings.csv)."
   ]
  },
  {
   "cell_type": "markdown",
   "metadata": {},
   "source": [
    "# Guideline\n",
    "\n",
    "* Data Loading\n",
    "* Data Cleaning\n",
    "* Data Exploration\n",
    "* Feature Engineering\n",
    "* Data Scaling\n",
    "* Data Spliting\n",
    "* Model Training\n",
    "* Model Testing\n",
    "* Model Saving\n",
    "* Inferencing"
   ]
  },
  {
   "cell_type": "markdown",
   "metadata": {},
   "source": [
    "## Data Loading"
   ]
  },
  {
   "cell_type": "code",
   "execution_count": 77,
   "metadata": {},
   "outputs": [],
   "source": []
  },
  {
   "cell_type": "markdown",
   "metadata": {},
   "source": [
    "## Data Cleaning"
   ]
  },
  {
   "cell_type": "code",
   "execution_count": null,
   "metadata": {},
   "outputs": [],
   "source": []
  },
  {
   "cell_type": "markdown",
   "metadata": {},
   "source": [
    "## Data Exploration"
   ]
  },
  {
   "cell_type": "code",
   "execution_count": null,
   "metadata": {},
   "outputs": [],
   "source": []
  },
  {
   "cell_type": "markdown",
   "metadata": {},
   "source": [
    "## Feature Engineering"
   ]
  },
  {
   "cell_type": "code",
   "execution_count": null,
   "metadata": {},
   "outputs": [],
   "source": []
  },
  {
   "cell_type": "markdown",
   "metadata": {},
   "source": [
    "## Data Scaling"
   ]
  },
  {
   "cell_type": "code",
   "execution_count": null,
   "metadata": {},
   "outputs": [],
   "source": []
  },
  {
   "cell_type": "markdown",
   "metadata": {},
   "source": [
    "## Data Spliting"
   ]
  },
  {
   "cell_type": "code",
   "execution_count": null,
   "metadata": {},
   "outputs": [],
   "source": []
  },
  {
   "cell_type": "markdown",
   "metadata": {},
   "source": [
    "## Model Training"
   ]
  },
  {
   "cell_type": "code",
   "execution_count": null,
   "metadata": {},
   "outputs": [],
   "source": []
  },
  {
   "cell_type": "markdown",
   "metadata": {},
   "source": [
    "## Model Testing"
   ]
  },
  {
   "cell_type": "code",
   "execution_count": null,
   "metadata": {},
   "outputs": [],
   "source": []
  },
  {
   "cell_type": "markdown",
   "metadata": {},
   "source": [
    "## Model Saving"
   ]
  },
  {
   "cell_type": "code",
   "execution_count": null,
   "metadata": {},
   "outputs": [],
   "source": []
  },
  {
   "cell_type": "markdown",
   "metadata": {},
   "source": [
    "## Inferencing"
   ]
  },
  {
   "cell_type": "code",
   "execution_count": null,
   "metadata": {},
   "outputs": [],
   "source": []
  }
 ],
 "metadata": {
  "kernelspec": {
   "display_name": "Python 3",
   "language": "python",
   "name": "python3"
  },
  "language_info": {
   "codemirror_mode": {
    "name": "ipython",
    "version": 3
   },
   "file_extension": ".py",
   "mimetype": "text/x-python",
   "name": "python",
   "nbconvert_exporter": "python",
   "pygments_lexer": "ipython3",
   "version": "3.8.3"
  }
 },
 "nbformat": 4,
 "nbformat_minor": 4
}
