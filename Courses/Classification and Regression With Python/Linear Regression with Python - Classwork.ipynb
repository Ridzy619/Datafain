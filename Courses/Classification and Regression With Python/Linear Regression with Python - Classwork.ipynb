{
 "cells": [
  {
   "cell_type": "markdown",
   "metadata": {},
   "source": [
    "![Datafain's logo](https://github.com/Ridzy619/Datafain/blob/master/Courses/Data%20Science%20Fundamentals/Day%201/Datafain%20logo.jpg?raw=true)\n",
    "\n",
    "# Linear Regression with Python\n",
    "\n",
    "This notebook illustration is part of [Datafain's](https://www.datafain.com) Fundamentals of Data Science Intermediate program delivered on 23/10/2020. The powerpoint presentation can be found in this [link](https://docs.google.com/presentation/d/1SfCxdMHKdaPS_tQIRA7YGM5QG4L5oAaskNbUKXGSp3o/edit?usp=sharing)\n",
    "\n",
    "\n",
    "The course was prepared by [Ridwan Salahuddeen](https://linkedin.com/in/ridwan-salahuddeen)."
   ]
  },
  {
   "cell_type": "markdown",
   "metadata": {},
   "source": [
    "# Task Background\n",
    ">In this notebook, we shall analyse build a model that estimates the likely carbon emmission of vehicles based on the properties of the vehicles, such as Engine size, fuel type, fuel consumption per distance travelled, etc.\n",
    "\n",
    "The dataset was gotten from the website of [Government of Canada Website](https://open.canada.ca/data/en/dataset/98f1a129-f628-4ce4-b24d-6f16bf24dd64) and is for 2019 model vehicles ([Download here](https://www.nrcan.gc.ca/sites/www.nrcan.gc.ca/files/oee/files/csv/MY2019%20Fuel%20Consumption%20Ratings.csv))."
   ]
  },
  {
   "cell_type": "markdown",
   "metadata": {},
   "source": [
    "# Guideline\n",
    "\n",
    "* Data Loading\n",
    "* Data Cleaning\n",
    "* Data Exploration\n",
    "* Feature Engineering\n",
    "* Data Scaling\n",
    "* Data Spliting\n",
    "* Model Training\n",
    "* Model Testing\n",
    "* Model Saving"
   ]
  },
  {
   "cell_type": "markdown",
   "metadata": {},
   "source": [
    "## Data Loading"
   ]
  },
  {
   "cell_type": "code",
   "execution_count": 2,
   "metadata": {},
   "outputs": [],
   "source": [
    "import pandas as pd"
   ]
  },
  {
   "cell_type": "code",
   "execution_count": 4,
   "metadata": {},
   "outputs": [],
   "source": [
    "emission = pd.read_csv('MY2019 Fuel Consumption Ratings.csv',encoding='cp1252')"
   ]
  },
  {
   "cell_type": "code",
   "execution_count": 5,
   "metadata": {},
   "outputs": [
    {
     "data": {
      "text/html": [
       "<div>\n",
       "<style scoped>\n",
       "    .dataframe tbody tr th:only-of-type {\n",
       "        vertical-align: middle;\n",
       "    }\n",
       "\n",
       "    .dataframe tbody tr th {\n",
       "        vertical-align: top;\n",
       "    }\n",
       "\n",
       "    .dataframe thead th {\n",
       "        text-align: right;\n",
       "    }\n",
       "</style>\n",
       "<table border=\"1\" class=\"dataframe\">\n",
       "  <thead>\n",
       "    <tr style=\"text-align: right;\">\n",
       "      <th></th>\n",
       "      <th>Model</th>\n",
       "      <th>Make</th>\n",
       "      <th>Model.1</th>\n",
       "      <th>Vehicle Class</th>\n",
       "      <th>Engine Size</th>\n",
       "      <th>Cylinders</th>\n",
       "      <th>Transmission</th>\n",
       "      <th>Fuel</th>\n",
       "      <th>Fuel Consumption</th>\n",
       "      <th>Unnamed: 9</th>\n",
       "      <th>...</th>\n",
       "      <th>Unnamed: 211</th>\n",
       "      <th>Unnamed: 212</th>\n",
       "      <th>Unnamed: 213</th>\n",
       "      <th>Unnamed: 214</th>\n",
       "      <th>Unnamed: 215</th>\n",
       "      <th>Unnamed: 216</th>\n",
       "      <th>Unnamed: 217</th>\n",
       "      <th>Unnamed: 218</th>\n",
       "      <th>Unnamed: 219</th>\n",
       "      <th>Unnamed: 220</th>\n",
       "    </tr>\n",
       "  </thead>\n",
       "  <tbody>\n",
       "    <tr>\n",
       "      <th>0</th>\n",
       "      <td>Year</td>\n",
       "      <td>NaN</td>\n",
       "      <td>NaN</td>\n",
       "      <td>NaN</td>\n",
       "      <td>(L)</td>\n",
       "      <td>NaN</td>\n",
       "      <td>NaN</td>\n",
       "      <td>Type</td>\n",
       "      <td>City (L/100 km)</td>\n",
       "      <td>Hwy (L/100 km)</td>\n",
       "      <td>...</td>\n",
       "      <td>NaN</td>\n",
       "      <td>NaN</td>\n",
       "      <td>NaN</td>\n",
       "      <td>NaN</td>\n",
       "      <td>NaN</td>\n",
       "      <td>NaN</td>\n",
       "      <td>NaN</td>\n",
       "      <td>NaN</td>\n",
       "      <td>NaN</td>\n",
       "      <td>NaN</td>\n",
       "    </tr>\n",
       "    <tr>\n",
       "      <th>1</th>\n",
       "      <td>2019</td>\n",
       "      <td>Acura</td>\n",
       "      <td>ILX</td>\n",
       "      <td>Compact</td>\n",
       "      <td>2.4</td>\n",
       "      <td>4.0</td>\n",
       "      <td>AM8</td>\n",
       "      <td>Z</td>\n",
       "      <td>9.9</td>\n",
       "      <td>7.0</td>\n",
       "      <td>...</td>\n",
       "      <td>NaN</td>\n",
       "      <td>NaN</td>\n",
       "      <td>NaN</td>\n",
       "      <td>NaN</td>\n",
       "      <td>NaN</td>\n",
       "      <td>NaN</td>\n",
       "      <td>NaN</td>\n",
       "      <td>NaN</td>\n",
       "      <td>NaN</td>\n",
       "      <td>NaN</td>\n",
       "    </tr>\n",
       "    <tr>\n",
       "      <th>2</th>\n",
       "      <td>2019</td>\n",
       "      <td>Acura</td>\n",
       "      <td>MDX SH-AWD</td>\n",
       "      <td>SUV: Small</td>\n",
       "      <td>3.5</td>\n",
       "      <td>6.0</td>\n",
       "      <td>AS9</td>\n",
       "      <td>Z</td>\n",
       "      <td>12.2</td>\n",
       "      <td>9.0</td>\n",
       "      <td>...</td>\n",
       "      <td>NaN</td>\n",
       "      <td>NaN</td>\n",
       "      <td>NaN</td>\n",
       "      <td>NaN</td>\n",
       "      <td>NaN</td>\n",
       "      <td>NaN</td>\n",
       "      <td>NaN</td>\n",
       "      <td>NaN</td>\n",
       "      <td>NaN</td>\n",
       "      <td>NaN</td>\n",
       "    </tr>\n",
       "    <tr>\n",
       "      <th>3</th>\n",
       "      <td>2019</td>\n",
       "      <td>Acura</td>\n",
       "      <td>MDX SH-AWD A-SPEC</td>\n",
       "      <td>SUV: Small</td>\n",
       "      <td>3.5</td>\n",
       "      <td>6.0</td>\n",
       "      <td>AS9</td>\n",
       "      <td>Z</td>\n",
       "      <td>12.2</td>\n",
       "      <td>9.5</td>\n",
       "      <td>...</td>\n",
       "      <td>NaN</td>\n",
       "      <td>NaN</td>\n",
       "      <td>NaN</td>\n",
       "      <td>NaN</td>\n",
       "      <td>NaN</td>\n",
       "      <td>NaN</td>\n",
       "      <td>NaN</td>\n",
       "      <td>NaN</td>\n",
       "      <td>NaN</td>\n",
       "      <td>NaN</td>\n",
       "    </tr>\n",
       "    <tr>\n",
       "      <th>4</th>\n",
       "      <td>2019</td>\n",
       "      <td>Acura</td>\n",
       "      <td>MDX Hybrid AWD</td>\n",
       "      <td>SUV: Small</td>\n",
       "      <td>3.0</td>\n",
       "      <td>6.0</td>\n",
       "      <td>AM7</td>\n",
       "      <td>Z</td>\n",
       "      <td>9.1</td>\n",
       "      <td>9.0</td>\n",
       "      <td>...</td>\n",
       "      <td>NaN</td>\n",
       "      <td>NaN</td>\n",
       "      <td>NaN</td>\n",
       "      <td>NaN</td>\n",
       "      <td>NaN</td>\n",
       "      <td>NaN</td>\n",
       "      <td>NaN</td>\n",
       "      <td>NaN</td>\n",
       "      <td>NaN</td>\n",
       "      <td>NaN</td>\n",
       "    </tr>\n",
       "    <tr>\n",
       "      <th>...</th>\n",
       "      <td>...</td>\n",
       "      <td>...</td>\n",
       "      <td>...</td>\n",
       "      <td>...</td>\n",
       "      <td>...</td>\n",
       "      <td>...</td>\n",
       "      <td>...</td>\n",
       "      <td>...</td>\n",
       "      <td>...</td>\n",
       "      <td>...</td>\n",
       "      <td>...</td>\n",
       "      <td>...</td>\n",
       "      <td>...</td>\n",
       "      <td>...</td>\n",
       "      <td>...</td>\n",
       "      <td>...</td>\n",
       "      <td>...</td>\n",
       "      <td>...</td>\n",
       "      <td>...</td>\n",
       "      <td>...</td>\n",
       "      <td>...</td>\n",
       "    </tr>\n",
       "    <tr>\n",
       "      <th>1304</th>\n",
       "      <td>NaN</td>\n",
       "      <td>NaN</td>\n",
       "      <td>NaN</td>\n",
       "      <td>NaN</td>\n",
       "      <td>NaN</td>\n",
       "      <td>NaN</td>\n",
       "      <td>NaN</td>\n",
       "      <td>NaN</td>\n",
       "      <td>NaN</td>\n",
       "      <td>NaN</td>\n",
       "      <td>...</td>\n",
       "      <td>NaN</td>\n",
       "      <td>NaN</td>\n",
       "      <td>NaN</td>\n",
       "      <td>NaN</td>\n",
       "      <td>NaN</td>\n",
       "      <td>NaN</td>\n",
       "      <td>NaN</td>\n",
       "      <td>NaN</td>\n",
       "      <td>NaN</td>\n",
       "      <td>NaN</td>\n",
       "    </tr>\n",
       "    <tr>\n",
       "      <th>1305</th>\n",
       "      <td>NaN</td>\n",
       "      <td>NaN</td>\n",
       "      <td>NaN</td>\n",
       "      <td>NaN</td>\n",
       "      <td>NaN</td>\n",
       "      <td>NaN</td>\n",
       "      <td>NaN</td>\n",
       "      <td>NaN</td>\n",
       "      <td>NaN</td>\n",
       "      <td>NaN</td>\n",
       "      <td>...</td>\n",
       "      <td>NaN</td>\n",
       "      <td>NaN</td>\n",
       "      <td>NaN</td>\n",
       "      <td>NaN</td>\n",
       "      <td>NaN</td>\n",
       "      <td>NaN</td>\n",
       "      <td>NaN</td>\n",
       "      <td>NaN</td>\n",
       "      <td>NaN</td>\n",
       "      <td>NaN</td>\n",
       "    </tr>\n",
       "    <tr>\n",
       "      <th>1306</th>\n",
       "      <td>NaN</td>\n",
       "      <td>NaN</td>\n",
       "      <td>NaN</td>\n",
       "      <td>NaN</td>\n",
       "      <td>NaN</td>\n",
       "      <td>NaN</td>\n",
       "      <td>NaN</td>\n",
       "      <td>NaN</td>\n",
       "      <td>NaN</td>\n",
       "      <td>NaN</td>\n",
       "      <td>...</td>\n",
       "      <td>NaN</td>\n",
       "      <td>NaN</td>\n",
       "      <td>NaN</td>\n",
       "      <td>NaN</td>\n",
       "      <td>NaN</td>\n",
       "      <td>NaN</td>\n",
       "      <td>NaN</td>\n",
       "      <td>NaN</td>\n",
       "      <td>NaN</td>\n",
       "      <td>NaN</td>\n",
       "    </tr>\n",
       "    <tr>\n",
       "      <th>1307</th>\n",
       "      <td>NaN</td>\n",
       "      <td>NaN</td>\n",
       "      <td>NaN</td>\n",
       "      <td>NaN</td>\n",
       "      <td>NaN</td>\n",
       "      <td>NaN</td>\n",
       "      <td>NaN</td>\n",
       "      <td>NaN</td>\n",
       "      <td>NaN</td>\n",
       "      <td>NaN</td>\n",
       "      <td>...</td>\n",
       "      <td>NaN</td>\n",
       "      <td>NaN</td>\n",
       "      <td>NaN</td>\n",
       "      <td>NaN</td>\n",
       "      <td>NaN</td>\n",
       "      <td>NaN</td>\n",
       "      <td>NaN</td>\n",
       "      <td>NaN</td>\n",
       "      <td>NaN</td>\n",
       "      <td>NaN</td>\n",
       "    </tr>\n",
       "    <tr>\n",
       "      <th>1308</th>\n",
       "      <td>NaN</td>\n",
       "      <td>NaN</td>\n",
       "      <td>NaN</td>\n",
       "      <td>NaN</td>\n",
       "      <td>NaN</td>\n",
       "      <td>NaN</td>\n",
       "      <td>NaN</td>\n",
       "      <td>NaN</td>\n",
       "      <td>NaN</td>\n",
       "      <td>NaN</td>\n",
       "      <td>...</td>\n",
       "      <td>NaN</td>\n",
       "      <td>NaN</td>\n",
       "      <td>NaN</td>\n",
       "      <td>NaN</td>\n",
       "      <td>NaN</td>\n",
       "      <td>NaN</td>\n",
       "      <td>NaN</td>\n",
       "      <td>NaN</td>\n",
       "      <td>NaN</td>\n",
       "      <td>NaN</td>\n",
       "    </tr>\n",
       "  </tbody>\n",
       "</table>\n",
       "<p>1309 rows × 221 columns</p>\n",
       "</div>"
      ],
      "text/plain": [
       "     Model   Make            Model.1 Vehicle Class Engine Size  Cylinders  \\\n",
       "0     Year    NaN                NaN           NaN         (L)        NaN   \n",
       "1     2019  Acura                ILX       Compact         2.4        4.0   \n",
       "2     2019  Acura         MDX SH-AWD    SUV: Small         3.5        6.0   \n",
       "3     2019  Acura  MDX SH-AWD A-SPEC    SUV: Small         3.5        6.0   \n",
       "4     2019  Acura     MDX Hybrid AWD    SUV: Small         3.0        6.0   \n",
       "...    ...    ...                ...           ...         ...        ...   \n",
       "1304   NaN    NaN                NaN           NaN         NaN        NaN   \n",
       "1305   NaN    NaN                NaN           NaN         NaN        NaN   \n",
       "1306   NaN    NaN                NaN           NaN         NaN        NaN   \n",
       "1307   NaN    NaN                NaN           NaN         NaN        NaN   \n",
       "1308   NaN    NaN                NaN           NaN         NaN        NaN   \n",
       "\n",
       "     Transmission  Fuel Fuel Consumption      Unnamed: 9  ... Unnamed: 211  \\\n",
       "0             NaN  Type  City (L/100 km)  Hwy (L/100 km)  ...          NaN   \n",
       "1             AM8     Z              9.9             7.0  ...          NaN   \n",
       "2             AS9     Z             12.2             9.0  ...          NaN   \n",
       "3             AS9     Z             12.2             9.5  ...          NaN   \n",
       "4             AM7     Z              9.1             9.0  ...          NaN   \n",
       "...           ...   ...              ...             ...  ...          ...   \n",
       "1304          NaN   NaN              NaN             NaN  ...          NaN   \n",
       "1305          NaN   NaN              NaN             NaN  ...          NaN   \n",
       "1306          NaN   NaN              NaN             NaN  ...          NaN   \n",
       "1307          NaN   NaN              NaN             NaN  ...          NaN   \n",
       "1308          NaN   NaN              NaN             NaN  ...          NaN   \n",
       "\n",
       "     Unnamed: 212 Unnamed: 213 Unnamed: 214 Unnamed: 215  Unnamed: 216  \\\n",
       "0             NaN          NaN          NaN          NaN           NaN   \n",
       "1             NaN          NaN          NaN          NaN           NaN   \n",
       "2             NaN          NaN          NaN          NaN           NaN   \n",
       "3             NaN          NaN          NaN          NaN           NaN   \n",
       "4             NaN          NaN          NaN          NaN           NaN   \n",
       "...           ...          ...          ...          ...           ...   \n",
       "1304          NaN          NaN          NaN          NaN           NaN   \n",
       "1305          NaN          NaN          NaN          NaN           NaN   \n",
       "1306          NaN          NaN          NaN          NaN           NaN   \n",
       "1307          NaN          NaN          NaN          NaN           NaN   \n",
       "1308          NaN          NaN          NaN          NaN           NaN   \n",
       "\n",
       "      Unnamed: 217  Unnamed: 218  Unnamed: 219  Unnamed: 220  \n",
       "0              NaN           NaN           NaN           NaN  \n",
       "1              NaN           NaN           NaN           NaN  \n",
       "2              NaN           NaN           NaN           NaN  \n",
       "3              NaN           NaN           NaN           NaN  \n",
       "4              NaN           NaN           NaN           NaN  \n",
       "...            ...           ...           ...           ...  \n",
       "1304           NaN           NaN           NaN           NaN  \n",
       "1305           NaN           NaN           NaN           NaN  \n",
       "1306           NaN           NaN           NaN           NaN  \n",
       "1307           NaN           NaN           NaN           NaN  \n",
       "1308           NaN           NaN           NaN           NaN  \n",
       "\n",
       "[1309 rows x 221 columns]"
      ]
     },
     "execution_count": 5,
     "metadata": {},
     "output_type": "execute_result"
    }
   ],
   "source": [
    "emission"
   ]
  },
  {
   "cell_type": "markdown",
   "metadata": {},
   "source": [
    "## Data Cleaning"
   ]
  },
  {
   "cell_type": "code",
   "execution_count": 8,
   "metadata": {},
   "outputs": [
    {
     "name": "stdout",
     "output_type": "stream",
     "text": [
      "['Model' 'Make' 'Model.1' 'Vehicle Class' 'Engine Size' 'Cylinders'\n",
      " 'Transmission' 'Fuel' 'Fuel Consumption' 'Unnamed: 9' 'Unnamed: 10'\n",
      " 'Unnamed: 11' 'CO2 Emissions' 'CO2' 'Smog'] ['Year' nan nan nan '(L)' nan nan 'Type' 'City (L/100 km)'\n",
      " 'Hwy (L/100 km)' 'Comb (L/100 km)' 'Comb (mpg)' '(g/km)' 'Rating'\n",
      " 'Rating']\n"
     ]
    }
   ],
   "source": [
    "# Clean up the dataframe\n",
    "temp1=emission.iloc[:1, :15].columns.values\n",
    "temp2=emission.iloc[:1, :15].values[0]\n",
    "print(temp1, temp2)"
   ]
  },
  {
   "cell_type": "code",
   "execution_count": 9,
   "metadata": {},
   "outputs": [
    {
     "data": {
      "text/plain": [
       "['ModelYear',\n",
       " 'Make',\n",
       " 'Model.1',\n",
       " 'Vehicle Class',\n",
       " 'Engine Size(L)',\n",
       " 'Cylinders',\n",
       " 'Transmission',\n",
       " 'FuelType',\n",
       " 'Fuel ConsumptionCity (L/100 km)',\n",
       " 'Hwy (L/100 km)',\n",
       " 'Comb (L/100 km)',\n",
       " 'Comb (mpg)',\n",
       " 'CO2 Emissions(g/km)',\n",
       " 'CO2Rating',\n",
       " 'SmogRating']"
      ]
     },
     "execution_count": 9,
     "metadata": {},
     "output_type": "execute_result"
    }
   ],
   "source": [
    "columns = []\n",
    "for t1, t2 in zip(temp1, temp2):\n",
    "    if type(t1) is float or \"Unnamed\" in t1:\n",
    "        columns.append(t2)\n",
    "    elif type(t2) is float or \"Unnamed\" in t2:\n",
    "        columns.append(t1)\n",
    "    else:\n",
    "        columns.append(t1+t2)\n",
    "columns"
   ]
  },
  {
   "cell_type": "code",
   "execution_count": 10,
   "metadata": {},
   "outputs": [],
   "source": [
    "emission = emission.iloc[1:, :15]\n",
    "emission.columns = columns\n",
    "emission.dropna(thresh=9, inplace=True)"
   ]
  },
  {
   "cell_type": "code",
   "execution_count": 11,
   "metadata": {},
   "outputs": [
    {
     "data": {
      "text/html": [
       "<div>\n",
       "<style scoped>\n",
       "    .dataframe tbody tr th:only-of-type {\n",
       "        vertical-align: middle;\n",
       "    }\n",
       "\n",
       "    .dataframe tbody tr th {\n",
       "        vertical-align: top;\n",
       "    }\n",
       "\n",
       "    .dataframe thead th {\n",
       "        text-align: right;\n",
       "    }\n",
       "</style>\n",
       "<table border=\"1\" class=\"dataframe\">\n",
       "  <thead>\n",
       "    <tr style=\"text-align: right;\">\n",
       "      <th></th>\n",
       "      <th>ModelYear</th>\n",
       "      <th>Make</th>\n",
       "      <th>Model.1</th>\n",
       "      <th>Vehicle Class</th>\n",
       "      <th>Engine Size(L)</th>\n",
       "      <th>Cylinders</th>\n",
       "      <th>Transmission</th>\n",
       "      <th>FuelType</th>\n",
       "      <th>Fuel ConsumptionCity (L/100 km)</th>\n",
       "      <th>Hwy (L/100 km)</th>\n",
       "      <th>Comb (L/100 km)</th>\n",
       "      <th>Comb (mpg)</th>\n",
       "      <th>CO2 Emissions(g/km)</th>\n",
       "      <th>CO2Rating</th>\n",
       "      <th>SmogRating</th>\n",
       "    </tr>\n",
       "  </thead>\n",
       "  <tbody>\n",
       "    <tr>\n",
       "      <th>1</th>\n",
       "      <td>2019</td>\n",
       "      <td>Acura</td>\n",
       "      <td>ILX</td>\n",
       "      <td>Compact</td>\n",
       "      <td>2.4</td>\n",
       "      <td>4.0</td>\n",
       "      <td>AM8</td>\n",
       "      <td>Z</td>\n",
       "      <td>9.9</td>\n",
       "      <td>7.0</td>\n",
       "      <td>8.6</td>\n",
       "      <td>33</td>\n",
       "      <td>199</td>\n",
       "      <td>6</td>\n",
       "      <td>3</td>\n",
       "    </tr>\n",
       "    <tr>\n",
       "      <th>2</th>\n",
       "      <td>2019</td>\n",
       "      <td>Acura</td>\n",
       "      <td>MDX SH-AWD</td>\n",
       "      <td>SUV: Small</td>\n",
       "      <td>3.5</td>\n",
       "      <td>6.0</td>\n",
       "      <td>AS9</td>\n",
       "      <td>Z</td>\n",
       "      <td>12.2</td>\n",
       "      <td>9.0</td>\n",
       "      <td>10.8</td>\n",
       "      <td>26</td>\n",
       "      <td>252</td>\n",
       "      <td>4</td>\n",
       "      <td>3</td>\n",
       "    </tr>\n",
       "    <tr>\n",
       "      <th>3</th>\n",
       "      <td>2019</td>\n",
       "      <td>Acura</td>\n",
       "      <td>MDX SH-AWD A-SPEC</td>\n",
       "      <td>SUV: Small</td>\n",
       "      <td>3.5</td>\n",
       "      <td>6.0</td>\n",
       "      <td>AS9</td>\n",
       "      <td>Z</td>\n",
       "      <td>12.2</td>\n",
       "      <td>9.5</td>\n",
       "      <td>11.0</td>\n",
       "      <td>26</td>\n",
       "      <td>258</td>\n",
       "      <td>4</td>\n",
       "      <td>3</td>\n",
       "    </tr>\n",
       "    <tr>\n",
       "      <th>4</th>\n",
       "      <td>2019</td>\n",
       "      <td>Acura</td>\n",
       "      <td>MDX Hybrid AWD</td>\n",
       "      <td>SUV: Small</td>\n",
       "      <td>3.0</td>\n",
       "      <td>6.0</td>\n",
       "      <td>AM7</td>\n",
       "      <td>Z</td>\n",
       "      <td>9.1</td>\n",
       "      <td>9.0</td>\n",
       "      <td>9.0</td>\n",
       "      <td>31</td>\n",
       "      <td>210</td>\n",
       "      <td>5</td>\n",
       "      <td>3</td>\n",
       "    </tr>\n",
       "    <tr>\n",
       "      <th>5</th>\n",
       "      <td>2019</td>\n",
       "      <td>Acura</td>\n",
       "      <td>NSX</td>\n",
       "      <td>Two-seater</td>\n",
       "      <td>3.5</td>\n",
       "      <td>6.0</td>\n",
       "      <td>AM9</td>\n",
       "      <td>Z</td>\n",
       "      <td>11.1</td>\n",
       "      <td>10.8</td>\n",
       "      <td>11.0</td>\n",
       "      <td>26</td>\n",
       "      <td>261</td>\n",
       "      <td>4</td>\n",
       "      <td>3</td>\n",
       "    </tr>\n",
       "    <tr>\n",
       "      <th>...</th>\n",
       "      <td>...</td>\n",
       "      <td>...</td>\n",
       "      <td>...</td>\n",
       "      <td>...</td>\n",
       "      <td>...</td>\n",
       "      <td>...</td>\n",
       "      <td>...</td>\n",
       "      <td>...</td>\n",
       "      <td>...</td>\n",
       "      <td>...</td>\n",
       "      <td>...</td>\n",
       "      <td>...</td>\n",
       "      <td>...</td>\n",
       "      <td>...</td>\n",
       "      <td>...</td>\n",
       "    </tr>\n",
       "    <tr>\n",
       "      <th>1046</th>\n",
       "      <td>2019</td>\n",
       "      <td>Volvo</td>\n",
       "      <td>XC40 T5 AWD</td>\n",
       "      <td>SUV: Small</td>\n",
       "      <td>2.0</td>\n",
       "      <td>4.0</td>\n",
       "      <td>AS8</td>\n",
       "      <td>Z</td>\n",
       "      <td>10.3</td>\n",
       "      <td>7.5</td>\n",
       "      <td>9.0</td>\n",
       "      <td>31</td>\n",
       "      <td>211</td>\n",
       "      <td>5</td>\n",
       "      <td>5</td>\n",
       "    </tr>\n",
       "    <tr>\n",
       "      <th>1047</th>\n",
       "      <td>2019</td>\n",
       "      <td>Volvo</td>\n",
       "      <td>XC60 T5 AWD</td>\n",
       "      <td>SUV: Small</td>\n",
       "      <td>2.0</td>\n",
       "      <td>4.0</td>\n",
       "      <td>AS8</td>\n",
       "      <td>Z</td>\n",
       "      <td>11.3</td>\n",
       "      <td>8.5</td>\n",
       "      <td>10.0</td>\n",
       "      <td>28</td>\n",
       "      <td>233</td>\n",
       "      <td>5</td>\n",
       "      <td>5</td>\n",
       "    </tr>\n",
       "    <tr>\n",
       "      <th>1048</th>\n",
       "      <td>2019</td>\n",
       "      <td>Volvo</td>\n",
       "      <td>XC60 T6 AWD</td>\n",
       "      <td>SUV: Small</td>\n",
       "      <td>2.0</td>\n",
       "      <td>4.0</td>\n",
       "      <td>AS8</td>\n",
       "      <td>Z</td>\n",
       "      <td>11.8</td>\n",
       "      <td>8.6</td>\n",
       "      <td>10.4</td>\n",
       "      <td>27</td>\n",
       "      <td>242</td>\n",
       "      <td>5</td>\n",
       "      <td>7</td>\n",
       "    </tr>\n",
       "    <tr>\n",
       "      <th>1049</th>\n",
       "      <td>2019</td>\n",
       "      <td>Volvo</td>\n",
       "      <td>XC90 T5 AWD</td>\n",
       "      <td>SUV: Standard</td>\n",
       "      <td>2.0</td>\n",
       "      <td>4.0</td>\n",
       "      <td>AS8</td>\n",
       "      <td>Z</td>\n",
       "      <td>11.3</td>\n",
       "      <td>8.5</td>\n",
       "      <td>10.0</td>\n",
       "      <td>28</td>\n",
       "      <td>233</td>\n",
       "      <td>5</td>\n",
       "      <td>5</td>\n",
       "    </tr>\n",
       "    <tr>\n",
       "      <th>1050</th>\n",
       "      <td>2019</td>\n",
       "      <td>Volvo</td>\n",
       "      <td>XC90 T6 AWD</td>\n",
       "      <td>SUV: Standard</td>\n",
       "      <td>2.0</td>\n",
       "      <td>4.0</td>\n",
       "      <td>AS8</td>\n",
       "      <td>Z</td>\n",
       "      <td>12.1</td>\n",
       "      <td>8.9</td>\n",
       "      <td>10.7</td>\n",
       "      <td>26</td>\n",
       "      <td>250</td>\n",
       "      <td>4</td>\n",
       "      <td>7</td>\n",
       "    </tr>\n",
       "  </tbody>\n",
       "</table>\n",
       "<p>1050 rows × 15 columns</p>\n",
       "</div>"
      ],
      "text/plain": [
       "     ModelYear   Make            Model.1  Vehicle Class Engine Size(L)  \\\n",
       "1         2019  Acura                ILX        Compact            2.4   \n",
       "2         2019  Acura         MDX SH-AWD     SUV: Small            3.5   \n",
       "3         2019  Acura  MDX SH-AWD A-SPEC     SUV: Small            3.5   \n",
       "4         2019  Acura     MDX Hybrid AWD     SUV: Small            3.0   \n",
       "5         2019  Acura                NSX     Two-seater            3.5   \n",
       "...        ...    ...                ...            ...            ...   \n",
       "1046      2019  Volvo        XC40 T5 AWD     SUV: Small            2.0   \n",
       "1047      2019  Volvo        XC60 T5 AWD     SUV: Small            2.0   \n",
       "1048      2019  Volvo        XC60 T6 AWD     SUV: Small            2.0   \n",
       "1049      2019  Volvo        XC90 T5 AWD  SUV: Standard            2.0   \n",
       "1050      2019  Volvo        XC90 T6 AWD  SUV: Standard            2.0   \n",
       "\n",
       "      Cylinders Transmission FuelType Fuel ConsumptionCity (L/100 km)  \\\n",
       "1           4.0          AM8        Z                             9.9   \n",
       "2           6.0          AS9        Z                            12.2   \n",
       "3           6.0          AS9        Z                            12.2   \n",
       "4           6.0          AM7        Z                             9.1   \n",
       "5           6.0          AM9        Z                            11.1   \n",
       "...         ...          ...      ...                             ...   \n",
       "1046        4.0          AS8        Z                            10.3   \n",
       "1047        4.0          AS8        Z                            11.3   \n",
       "1048        4.0          AS8        Z                            11.8   \n",
       "1049        4.0          AS8        Z                            11.3   \n",
       "1050        4.0          AS8        Z                            12.1   \n",
       "\n",
       "     Hwy (L/100 km) Comb (L/100 km) Comb (mpg) CO2 Emissions(g/km) CO2Rating  \\\n",
       "1               7.0             8.6         33                 199         6   \n",
       "2               9.0            10.8         26                 252         4   \n",
       "3               9.5            11.0         26                 258         4   \n",
       "4               9.0             9.0         31                 210         5   \n",
       "5              10.8            11.0         26                 261         4   \n",
       "...             ...             ...        ...                 ...       ...   \n",
       "1046            7.5             9.0         31                 211         5   \n",
       "1047            8.5            10.0         28                 233         5   \n",
       "1048            8.6            10.4         27                 242         5   \n",
       "1049            8.5            10.0         28                 233         5   \n",
       "1050            8.9            10.7         26                 250         4   \n",
       "\n",
       "     SmogRating  \n",
       "1             3  \n",
       "2             3  \n",
       "3             3  \n",
       "4             3  \n",
       "5             3  \n",
       "...         ...  \n",
       "1046          5  \n",
       "1047          5  \n",
       "1048          7  \n",
       "1049          5  \n",
       "1050          7  \n",
       "\n",
       "[1050 rows x 15 columns]"
      ]
     },
     "execution_count": 11,
     "metadata": {},
     "output_type": "execute_result"
    }
   ],
   "source": [
    "emission"
   ]
  },
  {
   "cell_type": "code",
   "execution_count": 23,
   "metadata": {},
   "outputs": [],
   "source": [
    "# emission.columns\n",
    "cat=['Make', 'Model.1', 'Vehicle Class','Transmission', 'FuelType',]\n",
    "num = ['Engine Size(L)','Cylinders','Fuel ConsumptionCity (L/100 km)', 'Hwy (L/100 km)', 'Comb (L/100 km)',\n",
    "       'Comb (mpg)', 'CO2 Emissions(g/km)']\n",
    "\n",
    "num_emission = emission[num]\n",
    "cat_emission = emission[cat]"
   ]
  },
  {
   "cell_type": "code",
   "execution_count": 24,
   "metadata": {},
   "outputs": [],
   "source": [
    "num_emission=num_emission.astype(float)\n"
   ]
  },
  {
   "cell_type": "markdown",
   "metadata": {},
   "source": [
    "## Data Exploration"
   ]
  },
  {
   "cell_type": "code",
   "execution_count": 28,
   "metadata": {},
   "outputs": [
    {
     "data": {
      "text/html": [
       "<div>\n",
       "<style scoped>\n",
       "    .dataframe tbody tr th:only-of-type {\n",
       "        vertical-align: middle;\n",
       "    }\n",
       "\n",
       "    .dataframe tbody tr th {\n",
       "        vertical-align: top;\n",
       "    }\n",
       "\n",
       "    .dataframe thead th {\n",
       "        text-align: right;\n",
       "    }\n",
       "</style>\n",
       "<table border=\"1\" class=\"dataframe\">\n",
       "  <thead>\n",
       "    <tr style=\"text-align: right;\">\n",
       "      <th></th>\n",
       "      <th>Engine Size(L)</th>\n",
       "      <th>Cylinders</th>\n",
       "      <th>Fuel ConsumptionCity (L/100 km)</th>\n",
       "      <th>Hwy (L/100 km)</th>\n",
       "      <th>Comb (L/100 km)</th>\n",
       "      <th>Comb (mpg)</th>\n",
       "      <th>CO2 Emissions(g/km)</th>\n",
       "    </tr>\n",
       "  </thead>\n",
       "  <tbody>\n",
       "    <tr>\n",
       "      <th>1</th>\n",
       "      <td>2.4</td>\n",
       "      <td>4.0</td>\n",
       "      <td>9.9</td>\n",
       "      <td>7.0</td>\n",
       "      <td>8.6</td>\n",
       "      <td>33.0</td>\n",
       "      <td>199.0</td>\n",
       "    </tr>\n",
       "    <tr>\n",
       "      <th>2</th>\n",
       "      <td>3.5</td>\n",
       "      <td>6.0</td>\n",
       "      <td>12.2</td>\n",
       "      <td>9.0</td>\n",
       "      <td>10.8</td>\n",
       "      <td>26.0</td>\n",
       "      <td>252.0</td>\n",
       "    </tr>\n",
       "    <tr>\n",
       "      <th>3</th>\n",
       "      <td>3.5</td>\n",
       "      <td>6.0</td>\n",
       "      <td>12.2</td>\n",
       "      <td>9.5</td>\n",
       "      <td>11.0</td>\n",
       "      <td>26.0</td>\n",
       "      <td>258.0</td>\n",
       "    </tr>\n",
       "    <tr>\n",
       "      <th>4</th>\n",
       "      <td>3.0</td>\n",
       "      <td>6.0</td>\n",
       "      <td>9.1</td>\n",
       "      <td>9.0</td>\n",
       "      <td>9.0</td>\n",
       "      <td>31.0</td>\n",
       "      <td>210.0</td>\n",
       "    </tr>\n",
       "    <tr>\n",
       "      <th>5</th>\n",
       "      <td>3.5</td>\n",
       "      <td>6.0</td>\n",
       "      <td>11.1</td>\n",
       "      <td>10.8</td>\n",
       "      <td>11.0</td>\n",
       "      <td>26.0</td>\n",
       "      <td>261.0</td>\n",
       "    </tr>\n",
       "    <tr>\n",
       "      <th>...</th>\n",
       "      <td>...</td>\n",
       "      <td>...</td>\n",
       "      <td>...</td>\n",
       "      <td>...</td>\n",
       "      <td>...</td>\n",
       "      <td>...</td>\n",
       "      <td>...</td>\n",
       "    </tr>\n",
       "    <tr>\n",
       "      <th>1046</th>\n",
       "      <td>2.0</td>\n",
       "      <td>4.0</td>\n",
       "      <td>10.3</td>\n",
       "      <td>7.5</td>\n",
       "      <td>9.0</td>\n",
       "      <td>31.0</td>\n",
       "      <td>211.0</td>\n",
       "    </tr>\n",
       "    <tr>\n",
       "      <th>1047</th>\n",
       "      <td>2.0</td>\n",
       "      <td>4.0</td>\n",
       "      <td>11.3</td>\n",
       "      <td>8.5</td>\n",
       "      <td>10.0</td>\n",
       "      <td>28.0</td>\n",
       "      <td>233.0</td>\n",
       "    </tr>\n",
       "    <tr>\n",
       "      <th>1048</th>\n",
       "      <td>2.0</td>\n",
       "      <td>4.0</td>\n",
       "      <td>11.8</td>\n",
       "      <td>8.6</td>\n",
       "      <td>10.4</td>\n",
       "      <td>27.0</td>\n",
       "      <td>242.0</td>\n",
       "    </tr>\n",
       "    <tr>\n",
       "      <th>1049</th>\n",
       "      <td>2.0</td>\n",
       "      <td>4.0</td>\n",
       "      <td>11.3</td>\n",
       "      <td>8.5</td>\n",
       "      <td>10.0</td>\n",
       "      <td>28.0</td>\n",
       "      <td>233.0</td>\n",
       "    </tr>\n",
       "    <tr>\n",
       "      <th>1050</th>\n",
       "      <td>2.0</td>\n",
       "      <td>4.0</td>\n",
       "      <td>12.1</td>\n",
       "      <td>8.9</td>\n",
       "      <td>10.7</td>\n",
       "      <td>26.0</td>\n",
       "      <td>250.0</td>\n",
       "    </tr>\n",
       "  </tbody>\n",
       "</table>\n",
       "<p>1050 rows × 7 columns</p>\n",
       "</div>"
      ],
      "text/plain": [
       "      Engine Size(L)  Cylinders  Fuel ConsumptionCity (L/100 km)  \\\n",
       "1                2.4        4.0                              9.9   \n",
       "2                3.5        6.0                             12.2   \n",
       "3                3.5        6.0                             12.2   \n",
       "4                3.0        6.0                              9.1   \n",
       "5                3.5        6.0                             11.1   \n",
       "...              ...        ...                              ...   \n",
       "1046             2.0        4.0                             10.3   \n",
       "1047             2.0        4.0                             11.3   \n",
       "1048             2.0        4.0                             11.8   \n",
       "1049             2.0        4.0                             11.3   \n",
       "1050             2.0        4.0                             12.1   \n",
       "\n",
       "      Hwy (L/100 km)  Comb (L/100 km)  Comb (mpg)  CO2 Emissions(g/km)  \n",
       "1                7.0              8.6        33.0                199.0  \n",
       "2                9.0             10.8        26.0                252.0  \n",
       "3                9.5             11.0        26.0                258.0  \n",
       "4                9.0              9.0        31.0                210.0  \n",
       "5               10.8             11.0        26.0                261.0  \n",
       "...              ...              ...         ...                  ...  \n",
       "1046             7.5              9.0        31.0                211.0  \n",
       "1047             8.5             10.0        28.0                233.0  \n",
       "1048             8.6             10.4        27.0                242.0  \n",
       "1049             8.5             10.0        28.0                233.0  \n",
       "1050             8.9             10.7        26.0                250.0  \n",
       "\n",
       "[1050 rows x 7 columns]"
      ]
     },
     "execution_count": 28,
     "metadata": {},
     "output_type": "execute_result"
    }
   ],
   "source": [
    "num_emission"
   ]
  },
  {
   "cell_type": "code",
   "execution_count": 25,
   "metadata": {
    "scrolled": true
   },
   "outputs": [
    {
     "data": {
      "text/html": [
       "<div>\n",
       "<style scoped>\n",
       "    .dataframe tbody tr th:only-of-type {\n",
       "        vertical-align: middle;\n",
       "    }\n",
       "\n",
       "    .dataframe tbody tr th {\n",
       "        vertical-align: top;\n",
       "    }\n",
       "\n",
       "    .dataframe thead th {\n",
       "        text-align: right;\n",
       "    }\n",
       "</style>\n",
       "<table border=\"1\" class=\"dataframe\">\n",
       "  <thead>\n",
       "    <tr style=\"text-align: right;\">\n",
       "      <th></th>\n",
       "      <th>Engine Size(L)</th>\n",
       "      <th>Cylinders</th>\n",
       "      <th>Fuel ConsumptionCity (L/100 km)</th>\n",
       "      <th>Hwy (L/100 km)</th>\n",
       "      <th>Comb (L/100 km)</th>\n",
       "      <th>Comb (mpg)</th>\n",
       "      <th>CO2 Emissions(g/km)</th>\n",
       "    </tr>\n",
       "  </thead>\n",
       "  <tbody>\n",
       "    <tr>\n",
       "      <th>count</th>\n",
       "      <td>1050.000000</td>\n",
       "      <td>1050.000000</td>\n",
       "      <td>1050.000000</td>\n",
       "      <td>1050.000000</td>\n",
       "      <td>1050.00000</td>\n",
       "      <td>1050.000000</td>\n",
       "      <td>1050.000000</td>\n",
       "    </tr>\n",
       "    <tr>\n",
       "      <th>mean</th>\n",
       "      <td>3.104571</td>\n",
       "      <td>5.589524</td>\n",
       "      <td>12.368190</td>\n",
       "      <td>9.032095</td>\n",
       "      <td>10.86419</td>\n",
       "      <td>27.657143</td>\n",
       "      <td>251.173333</td>\n",
       "    </tr>\n",
       "    <tr>\n",
       "      <th>std</th>\n",
       "      <td>1.315254</td>\n",
       "      <td>1.796110</td>\n",
       "      <td>3.293952</td>\n",
       "      <td>2.049522</td>\n",
       "      <td>2.69715</td>\n",
       "      <td>7.316003</td>\n",
       "      <td>57.012002</td>\n",
       "    </tr>\n",
       "    <tr>\n",
       "      <th>min</th>\n",
       "      <td>1.000000</td>\n",
       "      <td>3.000000</td>\n",
       "      <td>4.200000</td>\n",
       "      <td>4.000000</td>\n",
       "      <td>4.10000</td>\n",
       "      <td>13.000000</td>\n",
       "      <td>96.000000</td>\n",
       "    </tr>\n",
       "    <tr>\n",
       "      <th>25%</th>\n",
       "      <td>2.000000</td>\n",
       "      <td>4.000000</td>\n",
       "      <td>10.200000</td>\n",
       "      <td>7.600000</td>\n",
       "      <td>9.10000</td>\n",
       "      <td>23.000000</td>\n",
       "      <td>212.000000</td>\n",
       "    </tr>\n",
       "    <tr>\n",
       "      <th>50%</th>\n",
       "      <td>3.000000</td>\n",
       "      <td>6.000000</td>\n",
       "      <td>12.000000</td>\n",
       "      <td>8.800000</td>\n",
       "      <td>10.60000</td>\n",
       "      <td>27.000000</td>\n",
       "      <td>248.000000</td>\n",
       "    </tr>\n",
       "    <tr>\n",
       "      <th>75%</th>\n",
       "      <td>3.600000</td>\n",
       "      <td>6.000000</td>\n",
       "      <td>14.300000</td>\n",
       "      <td>10.200000</td>\n",
       "      <td>12.50000</td>\n",
       "      <td>31.000000</td>\n",
       "      <td>289.000000</td>\n",
       "    </tr>\n",
       "    <tr>\n",
       "      <th>max</th>\n",
       "      <td>8.000000</td>\n",
       "      <td>16.000000</td>\n",
       "      <td>26.800000</td>\n",
       "      <td>17.200000</td>\n",
       "      <td>22.20000</td>\n",
       "      <td>69.000000</td>\n",
       "      <td>522.000000</td>\n",
       "    </tr>\n",
       "  </tbody>\n",
       "</table>\n",
       "</div>"
      ],
      "text/plain": [
       "       Engine Size(L)    Cylinders  Fuel ConsumptionCity (L/100 km)  \\\n",
       "count     1050.000000  1050.000000                      1050.000000   \n",
       "mean         3.104571     5.589524                        12.368190   \n",
       "std          1.315254     1.796110                         3.293952   \n",
       "min          1.000000     3.000000                         4.200000   \n",
       "25%          2.000000     4.000000                        10.200000   \n",
       "50%          3.000000     6.000000                        12.000000   \n",
       "75%          3.600000     6.000000                        14.300000   \n",
       "max          8.000000    16.000000                        26.800000   \n",
       "\n",
       "       Hwy (L/100 km)  Comb (L/100 km)   Comb (mpg)  CO2 Emissions(g/km)  \n",
       "count     1050.000000       1050.00000  1050.000000          1050.000000  \n",
       "mean         9.032095         10.86419    27.657143           251.173333  \n",
       "std          2.049522          2.69715     7.316003            57.012002  \n",
       "min          4.000000          4.10000    13.000000            96.000000  \n",
       "25%          7.600000          9.10000    23.000000           212.000000  \n",
       "50%          8.800000         10.60000    27.000000           248.000000  \n",
       "75%         10.200000         12.50000    31.000000           289.000000  \n",
       "max         17.200000         22.20000    69.000000           522.000000  "
      ]
     },
     "execution_count": 25,
     "metadata": {},
     "output_type": "execute_result"
    }
   ],
   "source": [
    "num_emission.describe()"
   ]
  },
  {
   "cell_type": "code",
   "execution_count": 27,
   "metadata": {
    "scrolled": true
   },
   "outputs": [
    {
     "data": {
      "image/png": "[encoded data removed]",
      "text/plain": [
       "<Figure size 432x288 with 1 Axes>"
      ]
     },
     "metadata": {
      "needs_background": "light"
     },
     "output_type": "display_data"
    },
    {
     "data": {
      "image/png": "[encoded data removed]",
      "text/plain": [
       "<Figure size 432x288 with 1 Axes>"
      ]
     },
     "metadata": {
      "needs_background": "light"
     },
     "output_type": "display_data"
    },
    {
     "data": {
      "image/png": "[encoded data removed]",
      "text/plain": [
       "<Figure size 432x288 with 1 Axes>"
      ]
     },
     "metadata": {
      "needs_background": "light"
     },
     "output_type": "display_data"
    },
    {
     "data": {
      "image/png": "[encoded data removed]",
      "text/plain": [
       "<Figure size 432x288 with 1 Axes>"
      ]
     },
     "metadata": {
      "needs_background": "light"
     },
     "output_type": "display_data"
    },
    {
     "data": {
      "image/png": "[encoded data removed]",
      "text/plain": [
       "<Figure size 432x288 with 1 Axes>"
      ]
     },
     "metadata": {
      "needs_background": "light"
     },
     "output_type": "display_data"
    },
    {
     "data": {
      "image/png": "[encoded data removed]",
      "text/plain": [
       "<Figure size 432x288 with 1 Axes>"
      ]
     },
     "metadata": {
      "needs_background": "light"
     },
     "output_type": "display_data"
    },
    {
     "data": {
      "image/png": "[encoded data removed]",
      "text/plain": [
       "<Figure size 432x288 with 1 Axes>"
      ]
     },
     "metadata": {
      "needs_background": "light"
     },
     "output_type": "display_data"
    }
   ],
   "source": [
    "import matplotlib.pyplot as plt\n",
    "for col in num_emission:\n",
    "    y = 'CO2 Emissions(g/km)'\n",
    "    x = col\n",
    "    plt.scatter(num_emission[x], num_emission[y])\n",
    "    plt.xlabel(x)\n",
    "    plt.ylabel(y)\n",
    "    plt.show()"
   ]
  },
  {
   "cell_type": "markdown",
   "metadata": {},
   "source": [
    "## Feature Engineering"
   ]
  },
  {
   "cell_type": "code",
   "execution_count": 32,
   "metadata": {},
   "outputs": [
    {
     "data": {
      "text/html": [
       "<div>\n",
       "<style scoped>\n",
       "    .dataframe tbody tr th:only-of-type {\n",
       "        vertical-align: middle;\n",
       "    }\n",
       "\n",
       "    .dataframe tbody tr th {\n",
       "        vertical-align: top;\n",
       "    }\n",
       "\n",
       "    .dataframe thead th {\n",
       "        text-align: right;\n",
       "    }\n",
       "</style>\n",
       "<table border=\"1\" class=\"dataframe\">\n",
       "  <thead>\n",
       "    <tr style=\"text-align: right;\">\n",
       "      <th></th>\n",
       "      <th>Make</th>\n",
       "      <th>Model.1</th>\n",
       "      <th>Vehicle Class</th>\n",
       "      <th>Transmission</th>\n",
       "      <th>FuelType</th>\n",
       "    </tr>\n",
       "  </thead>\n",
       "  <tbody>\n",
       "    <tr>\n",
       "      <th>1</th>\n",
       "      <td>Acura</td>\n",
       "      <td>ILX</td>\n",
       "      <td>Compact</td>\n",
       "      <td>AM8</td>\n",
       "      <td>Z</td>\n",
       "    </tr>\n",
       "    <tr>\n",
       "      <th>2</th>\n",
       "      <td>Acura</td>\n",
       "      <td>MDX SH-AWD</td>\n",
       "      <td>SUV: Small</td>\n",
       "      <td>AS9</td>\n",
       "      <td>Z</td>\n",
       "    </tr>\n",
       "    <tr>\n",
       "      <th>3</th>\n",
       "      <td>Acura</td>\n",
       "      <td>MDX SH-AWD A-SPEC</td>\n",
       "      <td>SUV: Small</td>\n",
       "      <td>AS9</td>\n",
       "      <td>Z</td>\n",
       "    </tr>\n",
       "    <tr>\n",
       "      <th>4</th>\n",
       "      <td>Acura</td>\n",
       "      <td>MDX Hybrid AWD</td>\n",
       "      <td>SUV: Small</td>\n",
       "      <td>AM7</td>\n",
       "      <td>Z</td>\n",
       "    </tr>\n",
       "    <tr>\n",
       "      <th>5</th>\n",
       "      <td>Acura</td>\n",
       "      <td>NSX</td>\n",
       "      <td>Two-seater</td>\n",
       "      <td>AM9</td>\n",
       "      <td>Z</td>\n",
       "    </tr>\n",
       "  </tbody>\n",
       "</table>\n",
       "</div>"
      ],
      "text/plain": [
       "    Make            Model.1 Vehicle Class Transmission FuelType\n",
       "1  Acura                ILX       Compact          AM8        Z\n",
       "2  Acura         MDX SH-AWD    SUV: Small          AS9        Z\n",
       "3  Acura  MDX SH-AWD A-SPEC    SUV: Small          AS9        Z\n",
       "4  Acura     MDX Hybrid AWD    SUV: Small          AM7        Z\n",
       "5  Acura                NSX    Two-seater          AM9        Z"
      ]
     },
     "execution_count": 32,
     "metadata": {},
     "output_type": "execute_result"
    }
   ],
   "source": [
    "cat_emission.head()"
   ]
  },
  {
   "cell_type": "code",
   "execution_count": 31,
   "metadata": {},
   "outputs": [
    {
     "name": "stdout",
     "output_type": "stream",
     "text": [
      "Make: 39 values\n",
      "Model.1: 748 values\n",
      "Vehicle Class: 15 values\n",
      "Transmission: 25 values\n",
      "FuelType: 4 values\n"
     ]
    }
   ],
   "source": [
    "for col in cat_emission:\n",
    "    print(f'{col}: {len(cat_emission[col].unique())} values')"
   ]
  },
  {
   "cell_type": "code",
   "execution_count": 48,
   "metadata": {},
   "outputs": [
    {
     "data": {
      "text/html": [
       "<div>\n",
       "<style scoped>\n",
       "    .dataframe tbody tr th:only-of-type {\n",
       "        vertical-align: middle;\n",
       "    }\n",
       "\n",
       "    .dataframe tbody tr th {\n",
       "        vertical-align: top;\n",
       "    }\n",
       "\n",
       "    .dataframe thead th {\n",
       "        text-align: right;\n",
       "    }\n",
       "</style>\n",
       "<table border=\"1\" class=\"dataframe\">\n",
       "  <thead>\n",
       "    <tr style=\"text-align: right;\">\n",
       "      <th></th>\n",
       "      <th>FuelType_D</th>\n",
       "      <th>FuelType_E</th>\n",
       "      <th>FuelType_X</th>\n",
       "      <th>FuelType_Z</th>\n",
       "      <th>Engine Size(L)</th>\n",
       "      <th>Cylinders</th>\n",
       "      <th>Fuel ConsumptionCity (L/100 km)</th>\n",
       "      <th>Hwy (L/100 km)</th>\n",
       "      <th>Comb (L/100 km)</th>\n",
       "      <th>Comb (mpg)</th>\n",
       "      <th>CO2 Emissions(g/km)</th>\n",
       "    </tr>\n",
       "  </thead>\n",
       "  <tbody>\n",
       "    <tr>\n",
       "      <th>1</th>\n",
       "      <td>0</td>\n",
       "      <td>0</td>\n",
       "      <td>0</td>\n",
       "      <td>1</td>\n",
       "      <td>2.4</td>\n",
       "      <td>4.0</td>\n",
       "      <td>9.9</td>\n",
       "      <td>7.0</td>\n",
       "      <td>8.6</td>\n",
       "      <td>33.0</td>\n",
       "      <td>199.0</td>\n",
       "    </tr>\n",
       "    <tr>\n",
       "      <th>2</th>\n",
       "      <td>0</td>\n",
       "      <td>0</td>\n",
       "      <td>0</td>\n",
       "      <td>1</td>\n",
       "      <td>3.5</td>\n",
       "      <td>6.0</td>\n",
       "      <td>12.2</td>\n",
       "      <td>9.0</td>\n",
       "      <td>10.8</td>\n",
       "      <td>26.0</td>\n",
       "      <td>252.0</td>\n",
       "    </tr>\n",
       "    <tr>\n",
       "      <th>3</th>\n",
       "      <td>0</td>\n",
       "      <td>0</td>\n",
       "      <td>0</td>\n",
       "      <td>1</td>\n",
       "      <td>3.5</td>\n",
       "      <td>6.0</td>\n",
       "      <td>12.2</td>\n",
       "      <td>9.5</td>\n",
       "      <td>11.0</td>\n",
       "      <td>26.0</td>\n",
       "      <td>258.0</td>\n",
       "    </tr>\n",
       "    <tr>\n",
       "      <th>4</th>\n",
       "      <td>0</td>\n",
       "      <td>0</td>\n",
       "      <td>0</td>\n",
       "      <td>1</td>\n",
       "      <td>3.0</td>\n",
       "      <td>6.0</td>\n",
       "      <td>9.1</td>\n",
       "      <td>9.0</td>\n",
       "      <td>9.0</td>\n",
       "      <td>31.0</td>\n",
       "      <td>210.0</td>\n",
       "    </tr>\n",
       "    <tr>\n",
       "      <th>5</th>\n",
       "      <td>0</td>\n",
       "      <td>0</td>\n",
       "      <td>0</td>\n",
       "      <td>1</td>\n",
       "      <td>3.5</td>\n",
       "      <td>6.0</td>\n",
       "      <td>11.1</td>\n",
       "      <td>10.8</td>\n",
       "      <td>11.0</td>\n",
       "      <td>26.0</td>\n",
       "      <td>261.0</td>\n",
       "    </tr>\n",
       "    <tr>\n",
       "      <th>...</th>\n",
       "      <td>...</td>\n",
       "      <td>...</td>\n",
       "      <td>...</td>\n",
       "      <td>...</td>\n",
       "      <td>...</td>\n",
       "      <td>...</td>\n",
       "      <td>...</td>\n",
       "      <td>...</td>\n",
       "      <td>...</td>\n",
       "      <td>...</td>\n",
       "      <td>...</td>\n",
       "    </tr>\n",
       "    <tr>\n",
       "      <th>1046</th>\n",
       "      <td>0</td>\n",
       "      <td>0</td>\n",
       "      <td>0</td>\n",
       "      <td>1</td>\n",
       "      <td>2.0</td>\n",
       "      <td>4.0</td>\n",
       "      <td>10.3</td>\n",
       "      <td>7.5</td>\n",
       "      <td>9.0</td>\n",
       "      <td>31.0</td>\n",
       "      <td>211.0</td>\n",
       "    </tr>\n",
       "    <tr>\n",
       "      <th>1047</th>\n",
       "      <td>0</td>\n",
       "      <td>0</td>\n",
       "      <td>0</td>\n",
       "      <td>1</td>\n",
       "      <td>2.0</td>\n",
       "      <td>4.0</td>\n",
       "      <td>11.3</td>\n",
       "      <td>8.5</td>\n",
       "      <td>10.0</td>\n",
       "      <td>28.0</td>\n",
       "      <td>233.0</td>\n",
       "    </tr>\n",
       "    <tr>\n",
       "      <th>1048</th>\n",
       "      <td>0</td>\n",
       "      <td>0</td>\n",
       "      <td>0</td>\n",
       "      <td>1</td>\n",
       "      <td>2.0</td>\n",
       "      <td>4.0</td>\n",
       "      <td>11.8</td>\n",
       "      <td>8.6</td>\n",
       "      <td>10.4</td>\n",
       "      <td>27.0</td>\n",
       "      <td>242.0</td>\n",
       "    </tr>\n",
       "    <tr>\n",
       "      <th>1049</th>\n",
       "      <td>0</td>\n",
       "      <td>0</td>\n",
       "      <td>0</td>\n",
       "      <td>1</td>\n",
       "      <td>2.0</td>\n",
       "      <td>4.0</td>\n",
       "      <td>11.3</td>\n",
       "      <td>8.5</td>\n",
       "      <td>10.0</td>\n",
       "      <td>28.0</td>\n",
       "      <td>233.0</td>\n",
       "    </tr>\n",
       "    <tr>\n",
       "      <th>1050</th>\n",
       "      <td>0</td>\n",
       "      <td>0</td>\n",
       "      <td>0</td>\n",
       "      <td>1</td>\n",
       "      <td>2.0</td>\n",
       "      <td>4.0</td>\n",
       "      <td>12.1</td>\n",
       "      <td>8.9</td>\n",
       "      <td>10.7</td>\n",
       "      <td>26.0</td>\n",
       "      <td>250.0</td>\n",
       "    </tr>\n",
       "  </tbody>\n",
       "</table>\n",
       "<p>1050 rows × 11 columns</p>\n",
       "</div>"
      ],
      "text/plain": [
       "      FuelType_D  FuelType_E  FuelType_X  FuelType_Z  Engine Size(L)  \\\n",
       "1              0           0           0           1             2.4   \n",
       "2              0           0           0           1             3.5   \n",
       "3              0           0           0           1             3.5   \n",
       "4              0           0           0           1             3.0   \n",
       "5              0           0           0           1             3.5   \n",
       "...          ...         ...         ...         ...             ...   \n",
       "1046           0           0           0           1             2.0   \n",
       "1047           0           0           0           1             2.0   \n",
       "1048           0           0           0           1             2.0   \n",
       "1049           0           0           0           1             2.0   \n",
       "1050           0           0           0           1             2.0   \n",
       "\n",
       "      Cylinders  Fuel ConsumptionCity (L/100 km)  Hwy (L/100 km)  \\\n",
       "1           4.0                              9.9             7.0   \n",
       "2           6.0                             12.2             9.0   \n",
       "3           6.0                             12.2             9.5   \n",
       "4           6.0                              9.1             9.0   \n",
       "5           6.0                             11.1            10.8   \n",
       "...         ...                              ...             ...   \n",
       "1046        4.0                             10.3             7.5   \n",
       "1047        4.0                             11.3             8.5   \n",
       "1048        4.0                             11.8             8.6   \n",
       "1049        4.0                             11.3             8.5   \n",
       "1050        4.0                             12.1             8.9   \n",
       "\n",
       "      Comb (L/100 km)  Comb (mpg)  CO2 Emissions(g/km)  \n",
       "1                 8.6        33.0                199.0  \n",
       "2                10.8        26.0                252.0  \n",
       "3                11.0        26.0                258.0  \n",
       "4                 9.0        31.0                210.0  \n",
       "5                11.0        26.0                261.0  \n",
       "...               ...         ...                  ...  \n",
       "1046              9.0        31.0                211.0  \n",
       "1047             10.0        28.0                233.0  \n",
       "1048             10.4        27.0                242.0  \n",
       "1049             10.0        28.0                233.0  \n",
       "1050             10.7        26.0                250.0  \n",
       "\n",
       "[1050 rows x 11 columns]"
      ]
     },
     "execution_count": 48,
     "metadata": {},
     "output_type": "execute_result"
    }
   ],
   "source": [
    "new_emission = pd.concat([pd.get_dummies(cat_emission[['FuelType']]),num_emission],axis=1)\n",
    "new_emission"
   ]
  },
  {
   "cell_type": "markdown",
   "metadata": {},
   "source": [
    "## Data Spliting"
   ]
  },
  {
   "cell_type": "code",
   "execution_count": 49,
   "metadata": {},
   "outputs": [],
   "source": [
    "from sklearn.model_selection import train_test_split"
   ]
  },
  {
   "cell_type": "code",
   "execution_count": 50,
   "metadata": {},
   "outputs": [
    {
     "data": {
      "text/plain": [
       "((787, 11), (263, 11))"
      ]
     },
     "execution_count": 50,
     "metadata": {},
     "output_type": "execute_result"
    }
   ],
   "source": [
    "train, test = train_test_split(new_emission, test_size=0.25)\n",
    "train.shape, test.shape"
   ]
  },
  {
   "cell_type": "markdown",
   "metadata": {},
   "source": [
    "## Data Scaling"
   ]
  },
  {
   "cell_type": "code",
   "execution_count": 46,
   "metadata": {},
   "outputs": [],
   "source": [
    "from sklearn.preprocessing import MinMaxScaler, StandardScaler"
   ]
  },
  {
   "cell_type": "code",
   "execution_count": 51,
   "metadata": {},
   "outputs": [],
   "source": [
    "y_train = train.pop('CO2 Emissions(g/km)')\n",
    "y_test = test.pop('CO2 Emissions(g/km)')"
   ]
  },
  {
   "cell_type": "code",
   "execution_count": 54,
   "metadata": {},
   "outputs": [],
   "source": [
    "scaler = MinMaxScaler()\n",
    "x_train = scaler.fit_transform(train)\n",
    "x_test = scaler.transform(test)"
   ]
  },
  {
   "cell_type": "markdown",
   "metadata": {},
   "source": [
    "## Model Training"
   ]
  },
  {
   "cell_type": "code",
   "execution_count": 55,
   "metadata": {},
   "outputs": [],
   "source": [
    "from sklearn.linear_model import LinearRegression"
   ]
  },
  {
   "cell_type": "code",
   "execution_count": 56,
   "metadata": {},
   "outputs": [],
   "source": [
    "#Instantiate the model\n",
    "model = LinearRegression()"
   ]
  },
  {
   "cell_type": "code",
   "execution_count": 57,
   "metadata": {},
   "outputs": [
    {
     "data": {
      "text/plain": [
       "LinearRegression()"
      ]
     },
     "execution_count": 57,
     "metadata": {},
     "output_type": "execute_result"
    }
   ],
   "source": [
    "model.fit(x_train,y_train)"
   ]
  },
  {
   "cell_type": "markdown",
   "metadata": {},
   "source": [
    "## Model Testing"
   ]
  },
  {
   "cell_type": "code",
   "execution_count": 65,
   "metadata": {},
   "outputs": [],
   "source": [
    "from sklearn.metrics import mean_absolute_error, mean_squared_error, r2_score"
   ]
  },
  {
   "cell_type": "code",
   "execution_count": 60,
   "metadata": {},
   "outputs": [],
   "source": [
    "prediction = model.predict(x_test)"
   ]
  },
  {
   "cell_type": "code",
   "execution_count": 66,
   "metadata": {},
   "outputs": [
    {
     "data": {
      "text/plain": [
       "1.5914751076870803"
      ]
     },
     "execution_count": 66,
     "metadata": {},
     "output_type": "execute_result"
    }
   ],
   "source": [
    "mean_absolute_error(y_test, prediction)"
   ]
  },
  {
   "cell_type": "code",
   "execution_count": 67,
   "metadata": {},
   "outputs": [
    {
     "data": {
      "text/plain": [
       "8.508338465146752"
      ]
     },
     "execution_count": 67,
     "metadata": {},
     "output_type": "execute_result"
    }
   ],
   "source": [
    "mean_squared_error(y_test, prediction)"
   ]
  },
  {
   "cell_type": "code",
   "execution_count": 68,
   "metadata": {},
   "outputs": [
    {
     "data": {
      "text/plain": [
       "0.9970580276383214"
      ]
     },
     "execution_count": 68,
     "metadata": {},
     "output_type": "execute_result"
    }
   ],
   "source": [
    "r2_score(y_test, prediction)"
   ]
  },
  {
   "cell_type": "code",
   "execution_count": 69,
   "metadata": {},
   "outputs": [
    {
     "data": {
      "text/plain": [
       "array([ 51.88586969, -91.34490213,  20.02444293,  19.43458951,\n",
       "         2.82362621,   1.2550034 , 163.86480957,  79.75807943,\n",
       "       158.02376404, -17.57321809])"
      ]
     },
     "execution_count": 69,
     "metadata": {},
     "output_type": "execute_result"
    }
   ],
   "source": [
    "model.coef_"
   ]
  },
  {
   "cell_type": "markdown",
   "metadata": {},
   "source": [
    "## Model Saving"
   ]
  },
  {
   "cell_type": "code",
   "execution_count": 70,
   "metadata": {},
   "outputs": [],
   "source": [
    "import pickle as pkl"
   ]
  },
  {
   "cell_type": "code",
   "execution_count": 71,
   "metadata": {},
   "outputs": [],
   "source": [
    "with open('emission_linear_model.pkl', 'wb') as file:\n",
    "    pkl.dump(model, file)"
   ]
  },
  {
   "cell_type": "markdown",
   "metadata": {},
   "source": [
    "## Inferencing"
   ]
  },
  {
   "cell_type": "code",
   "execution_count": 72,
   "metadata": {},
   "outputs": [],
   "source": [
    "import pickle as pkl"
   ]
  },
  {
   "cell_type": "code",
   "execution_count": 74,
   "metadata": {},
   "outputs": [],
   "source": [
    "with open('emission_linear_model.pkl', 'rb') as file:\n",
    "    loaded_model = pkl.load(file)"
   ]
  },
  {
   "cell_type": "code",
   "execution_count": 75,
   "metadata": {},
   "outputs": [
    {
     "data": {
      "text/plain": [
       "array([ 51.88586969, -91.34490213,  20.02444293,  19.43458951,\n",
       "         2.82362621,   1.2550034 , 163.86480957,  79.75807943,\n",
       "       158.02376404, -17.57321809])"
      ]
     },
     "execution_count": 75,
     "metadata": {},
     "output_type": "execute_result"
    }
   ],
   "source": [
    "loaded_model.coef_"
   ]
  },
  {
   "cell_type": "code",
   "execution_count": 83,
   "metadata": {},
   "outputs": [],
   "source": [
    "input = x_test[5]"
   ]
  },
  {
   "cell_type": "code",
   "execution_count": 84,
   "metadata": {},
   "outputs": [
    {
     "data": {
      "text/plain": [
       "array([0.        , 0.        , 1.        , 0.        , 0.61428571,\n",
       "       0.38461538, 0.50442478, 0.54761905, 0.51933702, 0.14285714])"
      ]
     },
     "execution_count": 84,
     "metadata": {},
     "output_type": "execute_result"
    }
   ],
   "source": [
    "input"
   ]
  },
  {
   "cell_type": "code",
   "execution_count": 85,
   "metadata": {},
   "outputs": [
    {
     "data": {
      "text/plain": [
       "array([316.11970415])"
      ]
     },
     "execution_count": 85,
     "metadata": {},
     "output_type": "execute_result"
    }
   ],
   "source": [
    "loaded_model.predict([input])"
   ]
  }
 ],
 "metadata": {
  "kernelspec": {
   "display_name": "Python 3",
   "language": "python",
   "name": "python3"
  },
  "language_info": {
   "codemirror_mode": {
    "name": "ipython",
    "version": 3
   },
   "file_extension": ".py",
   "mimetype": "text/x-python",
   "name": "python",
   "nbconvert_exporter": "python",
   "pygments_lexer": "ipython3",
   "version": "3.8.3"
  }
 },
 "nbformat": 4,
 "nbformat_minor": 4
}
