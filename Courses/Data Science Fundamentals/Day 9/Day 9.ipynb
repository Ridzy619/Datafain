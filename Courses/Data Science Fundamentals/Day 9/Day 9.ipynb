{
 "cells": [
  {
   "cell_type": "markdown",
   "metadata": {
    "colab_type": "text",
    "id": "ySkliCNYXQd5"
   },
   "source": [
    "<H1 > Welcome to Data Science Fundamentals: Pandas to Predictions</H1>\n",
    "\n",
    "<p align=\"center\">\n",
    "  <img src=\"Datafain logo.jpg\"/>\n",
    "</p>\n",
    "\n",
    "Hello. My name is [Ridwan Salahuddeen](https://www.linkedin.com/in/ridwan-salahuddeen/) and I shall be taking you through on this class.\n",
    "\n",
    "Follow [DataFain](https://www.linkedin.com/company/data-for-all-initiative) on LinkedIn"
   ]
  },
  {
   "cell_type": "markdown",
   "metadata": {
    "colab_type": "text",
    "id": "LlUIqC7QcU0b"
   },
   "source": [
    "## Table of Contents\n",
    "<font >\n",
    "<ol>\n",
    "<li> Ice Breaker: What is Data Science?, Data Science Tools, Numpy Introduction, Quiz 1\n",
    "<li> Importance of Numpy,More Hands-on Use of Numpy,Quiz 2,Assignment 1\n",
    "<li> Introduction to Pandas: Creating Dataframes and Reading From Files,Quiz 3\n",
    "<li> More on Pandas: Manipulating Dataframes,Quiz 4,Assignment 2\n",
    "<li> Introduction to Matplotlib: Plotting Simple Charts,Quiz 5\n",
    "    \n",
    "<li> More on Matplotlib: Drawing Inference from plots,Quiz 6,Assignment 3\n",
    "<li> Types of Machine Learning Algorithms,Quiz 7\n",
    "<li> Understanding Learning Algorithms - Logistic Regression,Quiz 8,Assignment 4\n",
    "<li> Using Sci-Kit Learn: Logistic Regression,Sample Classification Problem1,Quiz 9\n",
    "<li> Sample Classification Problem 2,Quiz 10,Assignment 5\n",
    "</ol>\n",
    "</font>"
   ]
  },
  {
   "cell_type": "markdown",
   "metadata": {},
   "source": [
    "# Logistic Regression"
   ]
  },
  {
   "cell_type": "markdown",
   "metadata": {},
   "source": [
    "**Demographic:**\n",
    "\n",
    "• Sex: male or female(Nominal)\n",
    "\n",
    "• Age: Age of the patient;(Continuous - Although the recorded ages have been truncated to whole numbers, the concept of age is continuous)\n",
    "\n",
    "Behavioral\n",
    "\n",
    "• Current Smoker: whether or not the patient is a current smoker (Nominal)\n",
    "\n",
    "• Cigs Per Day: the number of cigarettes that the person smoked on average in one day.(can be considered continuous as one can have any number of cigarettes, even half a cigarette.)\n",
    "\n",
    "**Medical( history)**\n",
    "\n",
    "• BP Meds: whether or not the patient was on blood pressure medication (Nominal)\n",
    "\n",
    "• Prevalent Stroke: whether or not the patient had previously had a stroke (Nominal)\n",
    "\n",
    "• Prevalent Hyp: whether or not the patient was hypertensive (Nominal)\n",
    "\n",
    "• Diabetes: whether or not the patient had diabetes (Nominal)\n",
    "\n",
    "**Medical(current)**\n",
    "\n",
    "• Tot Chol: total cholesterol level (Continuous)\n",
    "\n",
    "• Sys BP: systolic blood pressure (Continuous)\n",
    "\n",
    "• Dia BP: diastolic blood pressure (Continuous)\n",
    "\n",
    "• BMI: Body Mass Index (Continuous)\n",
    "\n",
    "• Heart Rate: heart rate (Continuous - In medical research, variables such as heart rate though in fact discrete, yet are considered continuous because of large number of possible values.)\n",
    "\n",
    "• Glucose: glucose level (Continuous)\n",
    "\n",
    "**Predict variable (desired target)**\n",
    "\n",
    "• 10 year risk of coronary heart disease CHD (binary: “1”, means “Yes”, “0” means “No”)"
   ]
  },
  {
   "cell_type": "code",
   "execution_count": 43,
   "metadata": {},
   "outputs": [],
   "source": [
    "import pandas as pd\n",
    "import numpy as np\n",
    "import matplotlib.pyplot as plt\n",
    "from sklearn.model_selection import train_test_split\n",
    "from sklearn.linear_model import LogisticRegression\n",
    "from sklearn.metrics import accuracy_score, f1_score, confusion_matrix, recall_score, precision_score"
   ]
  },
  {
   "cell_type": "code",
   "execution_count": 3,
   "metadata": {},
   "outputs": [
    {
     "data": {
      "text/html": [
       "<div>\n",
       "<style scoped>\n",
       "    .dataframe tbody tr th:only-of-type {\n",
       "        vertical-align: middle;\n",
       "    }\n",
       "\n",
       "    .dataframe tbody tr th {\n",
       "        vertical-align: top;\n",
       "    }\n",
       "\n",
       "    .dataframe thead th {\n",
       "        text-align: right;\n",
       "    }\n",
       "</style>\n",
       "<table border=\"1\" class=\"dataframe\">\n",
       "  <thead>\n",
       "    <tr style=\"text-align: right;\">\n",
       "      <th></th>\n",
       "      <th>male</th>\n",
       "      <th>age</th>\n",
       "      <th>education</th>\n",
       "      <th>currentSmoker</th>\n",
       "      <th>cigsPerDay</th>\n",
       "      <th>BPMeds</th>\n",
       "      <th>prevalentStroke</th>\n",
       "      <th>prevalentHyp</th>\n",
       "      <th>diabetes</th>\n",
       "      <th>totChol</th>\n",
       "      <th>sysBP</th>\n",
       "      <th>diaBP</th>\n",
       "      <th>BMI</th>\n",
       "      <th>heartRate</th>\n",
       "      <th>glucose</th>\n",
       "      <th>TenYearCHD</th>\n",
       "    </tr>\n",
       "  </thead>\n",
       "  <tbody>\n",
       "    <tr>\n",
       "      <th>0</th>\n",
       "      <td>1</td>\n",
       "      <td>39</td>\n",
       "      <td>4.0</td>\n",
       "      <td>0</td>\n",
       "      <td>0.0</td>\n",
       "      <td>0.0</td>\n",
       "      <td>0</td>\n",
       "      <td>0</td>\n",
       "      <td>0</td>\n",
       "      <td>195.0</td>\n",
       "      <td>106.0</td>\n",
       "      <td>70.0</td>\n",
       "      <td>26.97</td>\n",
       "      <td>80.0</td>\n",
       "      <td>77.0</td>\n",
       "      <td>0</td>\n",
       "    </tr>\n",
       "    <tr>\n",
       "      <th>1</th>\n",
       "      <td>0</td>\n",
       "      <td>46</td>\n",
       "      <td>2.0</td>\n",
       "      <td>0</td>\n",
       "      <td>0.0</td>\n",
       "      <td>0.0</td>\n",
       "      <td>0</td>\n",
       "      <td>0</td>\n",
       "      <td>0</td>\n",
       "      <td>250.0</td>\n",
       "      <td>121.0</td>\n",
       "      <td>81.0</td>\n",
       "      <td>28.73</td>\n",
       "      <td>95.0</td>\n",
       "      <td>76.0</td>\n",
       "      <td>0</td>\n",
       "    </tr>\n",
       "    <tr>\n",
       "      <th>2</th>\n",
       "      <td>1</td>\n",
       "      <td>48</td>\n",
       "      <td>1.0</td>\n",
       "      <td>1</td>\n",
       "      <td>20.0</td>\n",
       "      <td>0.0</td>\n",
       "      <td>0</td>\n",
       "      <td>0</td>\n",
       "      <td>0</td>\n",
       "      <td>245.0</td>\n",
       "      <td>127.5</td>\n",
       "      <td>80.0</td>\n",
       "      <td>25.34</td>\n",
       "      <td>75.0</td>\n",
       "      <td>70.0</td>\n",
       "      <td>0</td>\n",
       "    </tr>\n",
       "    <tr>\n",
       "      <th>3</th>\n",
       "      <td>0</td>\n",
       "      <td>61</td>\n",
       "      <td>3.0</td>\n",
       "      <td>1</td>\n",
       "      <td>30.0</td>\n",
       "      <td>0.0</td>\n",
       "      <td>0</td>\n",
       "      <td>1</td>\n",
       "      <td>0</td>\n",
       "      <td>225.0</td>\n",
       "      <td>150.0</td>\n",
       "      <td>95.0</td>\n",
       "      <td>28.58</td>\n",
       "      <td>65.0</td>\n",
       "      <td>103.0</td>\n",
       "      <td>1</td>\n",
       "    </tr>\n",
       "    <tr>\n",
       "      <th>4</th>\n",
       "      <td>0</td>\n",
       "      <td>46</td>\n",
       "      <td>3.0</td>\n",
       "      <td>1</td>\n",
       "      <td>23.0</td>\n",
       "      <td>0.0</td>\n",
       "      <td>0</td>\n",
       "      <td>0</td>\n",
       "      <td>0</td>\n",
       "      <td>285.0</td>\n",
       "      <td>130.0</td>\n",
       "      <td>84.0</td>\n",
       "      <td>23.10</td>\n",
       "      <td>85.0</td>\n",
       "      <td>85.0</td>\n",
       "      <td>0</td>\n",
       "    </tr>\n",
       "  </tbody>\n",
       "</table>\n",
       "</div>"
      ],
      "text/plain": [
       "   male  age  education  currentSmoker  cigsPerDay  BPMeds  prevalentStroke  \\\n",
       "0     1   39        4.0              0         0.0     0.0                0   \n",
       "1     0   46        2.0              0         0.0     0.0                0   \n",
       "2     1   48        1.0              1        20.0     0.0                0   \n",
       "3     0   61        3.0              1        30.0     0.0                0   \n",
       "4     0   46        3.0              1        23.0     0.0                0   \n",
       "\n",
       "   prevalentHyp  diabetes  totChol  sysBP  diaBP    BMI  heartRate  glucose  \\\n",
       "0             0         0    195.0  106.0   70.0  26.97       80.0     77.0   \n",
       "1             0         0    250.0  121.0   81.0  28.73       95.0     76.0   \n",
       "2             0         0    245.0  127.5   80.0  25.34       75.0     70.0   \n",
       "3             1         0    225.0  150.0   95.0  28.58       65.0    103.0   \n",
       "4             0         0    285.0  130.0   84.0  23.10       85.0     85.0   \n",
       "\n",
       "   TenYearCHD  \n",
       "0           0  \n",
       "1           0  \n",
       "2           0  \n",
       "3           1  \n",
       "4           0  "
      ]
     },
     "execution_count": 3,
     "metadata": {},
     "output_type": "execute_result"
    }
   ],
   "source": [
    "data = pd.read_csv('framingham.csv')\n",
    "data.head()"
   ]
  },
  {
   "cell_type": "code",
   "execution_count": 6,
   "metadata": {},
   "outputs": [
    {
     "data": {
      "text/html": [
       "<div>\n",
       "<style scoped>\n",
       "    .dataframe tbody tr th:only-of-type {\n",
       "        vertical-align: middle;\n",
       "    }\n",
       "\n",
       "    .dataframe tbody tr th {\n",
       "        vertical-align: top;\n",
       "    }\n",
       "\n",
       "    .dataframe thead th {\n",
       "        text-align: right;\n",
       "    }\n",
       "</style>\n",
       "<table border=\"1\" class=\"dataframe\">\n",
       "  <thead>\n",
       "    <tr style=\"text-align: right;\">\n",
       "      <th></th>\n",
       "      <th>male</th>\n",
       "      <th>age</th>\n",
       "      <th>education</th>\n",
       "      <th>currentSmoker</th>\n",
       "      <th>cigsPerDay</th>\n",
       "      <th>BPMeds</th>\n",
       "      <th>prevalentStroke</th>\n",
       "      <th>prevalentHyp</th>\n",
       "      <th>diabetes</th>\n",
       "      <th>totChol</th>\n",
       "      <th>sysBP</th>\n",
       "      <th>diaBP</th>\n",
       "      <th>BMI</th>\n",
       "      <th>heartRate</th>\n",
       "      <th>glucose</th>\n",
       "      <th>TenYearCHD</th>\n",
       "    </tr>\n",
       "  </thead>\n",
       "  <tbody>\n",
       "    <tr>\n",
       "      <th>4228</th>\n",
       "      <td>0</td>\n",
       "      <td>50</td>\n",
       "      <td>1.0</td>\n",
       "      <td>0</td>\n",
       "      <td>0.0</td>\n",
       "      <td>0.0</td>\n",
       "      <td>0</td>\n",
       "      <td>1</td>\n",
       "      <td>1</td>\n",
       "      <td>260.0</td>\n",
       "      <td>190.0</td>\n",
       "      <td>130.0</td>\n",
       "      <td>43.67</td>\n",
       "      <td>85.0</td>\n",
       "      <td>260.0</td>\n",
       "      <td>0</td>\n",
       "    </tr>\n",
       "    <tr>\n",
       "      <th>4229</th>\n",
       "      <td>0</td>\n",
       "      <td>51</td>\n",
       "      <td>3.0</td>\n",
       "      <td>1</td>\n",
       "      <td>20.0</td>\n",
       "      <td>0.0</td>\n",
       "      <td>0</td>\n",
       "      <td>1</td>\n",
       "      <td>0</td>\n",
       "      <td>251.0</td>\n",
       "      <td>140.0</td>\n",
       "      <td>80.0</td>\n",
       "      <td>25.60</td>\n",
       "      <td>75.0</td>\n",
       "      <td>NaN</td>\n",
       "      <td>0</td>\n",
       "    </tr>\n",
       "    <tr>\n",
       "      <th>4230</th>\n",
       "      <td>0</td>\n",
       "      <td>56</td>\n",
       "      <td>1.0</td>\n",
       "      <td>1</td>\n",
       "      <td>3.0</td>\n",
       "      <td>0.0</td>\n",
       "      <td>0</td>\n",
       "      <td>1</td>\n",
       "      <td>0</td>\n",
       "      <td>268.0</td>\n",
       "      <td>170.0</td>\n",
       "      <td>102.0</td>\n",
       "      <td>22.89</td>\n",
       "      <td>57.0</td>\n",
       "      <td>NaN</td>\n",
       "      <td>0</td>\n",
       "    </tr>\n",
       "    <tr>\n",
       "      <th>4231</th>\n",
       "      <td>1</td>\n",
       "      <td>58</td>\n",
       "      <td>3.0</td>\n",
       "      <td>0</td>\n",
       "      <td>0.0</td>\n",
       "      <td>0.0</td>\n",
       "      <td>0</td>\n",
       "      <td>1</td>\n",
       "      <td>0</td>\n",
       "      <td>187.0</td>\n",
       "      <td>141.0</td>\n",
       "      <td>81.0</td>\n",
       "      <td>24.96</td>\n",
       "      <td>80.0</td>\n",
       "      <td>81.0</td>\n",
       "      <td>0</td>\n",
       "    </tr>\n",
       "    <tr>\n",
       "      <th>4232</th>\n",
       "      <td>1</td>\n",
       "      <td>68</td>\n",
       "      <td>1.0</td>\n",
       "      <td>0</td>\n",
       "      <td>0.0</td>\n",
       "      <td>0.0</td>\n",
       "      <td>0</td>\n",
       "      <td>1</td>\n",
       "      <td>0</td>\n",
       "      <td>176.0</td>\n",
       "      <td>168.0</td>\n",
       "      <td>97.0</td>\n",
       "      <td>23.14</td>\n",
       "      <td>60.0</td>\n",
       "      <td>79.0</td>\n",
       "      <td>1</td>\n",
       "    </tr>\n",
       "    <tr>\n",
       "      <th>4233</th>\n",
       "      <td>1</td>\n",
       "      <td>50</td>\n",
       "      <td>1.0</td>\n",
       "      <td>1</td>\n",
       "      <td>1.0</td>\n",
       "      <td>0.0</td>\n",
       "      <td>0</td>\n",
       "      <td>1</td>\n",
       "      <td>0</td>\n",
       "      <td>313.0</td>\n",
       "      <td>179.0</td>\n",
       "      <td>92.0</td>\n",
       "      <td>25.97</td>\n",
       "      <td>66.0</td>\n",
       "      <td>86.0</td>\n",
       "      <td>1</td>\n",
       "    </tr>\n",
       "    <tr>\n",
       "      <th>4234</th>\n",
       "      <td>1</td>\n",
       "      <td>51</td>\n",
       "      <td>3.0</td>\n",
       "      <td>1</td>\n",
       "      <td>43.0</td>\n",
       "      <td>0.0</td>\n",
       "      <td>0</td>\n",
       "      <td>0</td>\n",
       "      <td>0</td>\n",
       "      <td>207.0</td>\n",
       "      <td>126.5</td>\n",
       "      <td>80.0</td>\n",
       "      <td>19.71</td>\n",
       "      <td>65.0</td>\n",
       "      <td>68.0</td>\n",
       "      <td>0</td>\n",
       "    </tr>\n",
       "    <tr>\n",
       "      <th>4235</th>\n",
       "      <td>0</td>\n",
       "      <td>48</td>\n",
       "      <td>2.0</td>\n",
       "      <td>1</td>\n",
       "      <td>20.0</td>\n",
       "      <td>NaN</td>\n",
       "      <td>0</td>\n",
       "      <td>0</td>\n",
       "      <td>0</td>\n",
       "      <td>248.0</td>\n",
       "      <td>131.0</td>\n",
       "      <td>72.0</td>\n",
       "      <td>22.00</td>\n",
       "      <td>84.0</td>\n",
       "      <td>86.0</td>\n",
       "      <td>0</td>\n",
       "    </tr>\n",
       "    <tr>\n",
       "      <th>4236</th>\n",
       "      <td>0</td>\n",
       "      <td>44</td>\n",
       "      <td>1.0</td>\n",
       "      <td>1</td>\n",
       "      <td>15.0</td>\n",
       "      <td>0.0</td>\n",
       "      <td>0</td>\n",
       "      <td>0</td>\n",
       "      <td>0</td>\n",
       "      <td>210.0</td>\n",
       "      <td>126.5</td>\n",
       "      <td>87.0</td>\n",
       "      <td>19.16</td>\n",
       "      <td>86.0</td>\n",
       "      <td>NaN</td>\n",
       "      <td>0</td>\n",
       "    </tr>\n",
       "    <tr>\n",
       "      <th>4237</th>\n",
       "      <td>0</td>\n",
       "      <td>52</td>\n",
       "      <td>2.0</td>\n",
       "      <td>0</td>\n",
       "      <td>0.0</td>\n",
       "      <td>0.0</td>\n",
       "      <td>0</td>\n",
       "      <td>0</td>\n",
       "      <td>0</td>\n",
       "      <td>269.0</td>\n",
       "      <td>133.5</td>\n",
       "      <td>83.0</td>\n",
       "      <td>21.47</td>\n",
       "      <td>80.0</td>\n",
       "      <td>107.0</td>\n",
       "      <td>0</td>\n",
       "    </tr>\n",
       "  </tbody>\n",
       "</table>\n",
       "</div>"
      ],
      "text/plain": [
       "      male  age  education  currentSmoker  cigsPerDay  BPMeds  \\\n",
       "4228     0   50        1.0              0         0.0     0.0   \n",
       "4229     0   51        3.0              1        20.0     0.0   \n",
       "4230     0   56        1.0              1         3.0     0.0   \n",
       "4231     1   58        3.0              0         0.0     0.0   \n",
       "4232     1   68        1.0              0         0.0     0.0   \n",
       "4233     1   50        1.0              1         1.0     0.0   \n",
       "4234     1   51        3.0              1        43.0     0.0   \n",
       "4235     0   48        2.0              1        20.0     NaN   \n",
       "4236     0   44        1.0              1        15.0     0.0   \n",
       "4237     0   52        2.0              0         0.0     0.0   \n",
       "\n",
       "      prevalentStroke  prevalentHyp  diabetes  totChol  sysBP  diaBP    BMI  \\\n",
       "4228                0             1         1    260.0  190.0  130.0  43.67   \n",
       "4229                0             1         0    251.0  140.0   80.0  25.60   \n",
       "4230                0             1         0    268.0  170.0  102.0  22.89   \n",
       "4231                0             1         0    187.0  141.0   81.0  24.96   \n",
       "4232                0             1         0    176.0  168.0   97.0  23.14   \n",
       "4233                0             1         0    313.0  179.0   92.0  25.97   \n",
       "4234                0             0         0    207.0  126.5   80.0  19.71   \n",
       "4235                0             0         0    248.0  131.0   72.0  22.00   \n",
       "4236                0             0         0    210.0  126.5   87.0  19.16   \n",
       "4237                0             0         0    269.0  133.5   83.0  21.47   \n",
       "\n",
       "      heartRate  glucose  TenYearCHD  \n",
       "4228       85.0    260.0           0  \n",
       "4229       75.0      NaN           0  \n",
       "4230       57.0      NaN           0  \n",
       "4231       80.0     81.0           0  \n",
       "4232       60.0     79.0           1  \n",
       "4233       66.0     86.0           1  \n",
       "4234       65.0     68.0           0  \n",
       "4235       84.0     86.0           0  \n",
       "4236       86.0      NaN           0  \n",
       "4237       80.0    107.0           0  "
      ]
     },
     "execution_count": 6,
     "metadata": {},
     "output_type": "execute_result"
    }
   ],
   "source": [
    "data.tail(10)"
   ]
  },
  {
   "cell_type": "code",
   "execution_count": 9,
   "metadata": {},
   "outputs": [
    {
     "data": {
      "text/plain": [
       "male                 0\n",
       "age                  0\n",
       "education          105\n",
       "currentSmoker        0\n",
       "cigsPerDay          29\n",
       "BPMeds              53\n",
       "prevalentStroke      0\n",
       "prevalentHyp         0\n",
       "diabetes             0\n",
       "totChol             50\n",
       "sysBP                0\n",
       "diaBP                0\n",
       "BMI                 19\n",
       "heartRate            1\n",
       "glucose            388\n",
       "TenYearCHD           0\n",
       "dtype: int64"
      ]
     },
     "execution_count": 9,
     "metadata": {},
     "output_type": "execute_result"
    }
   ],
   "source": [
    "# Inspect the dataset for nans\n",
    "\n",
    "data.isna().sum()"
   ]
  },
  {
   "cell_type": "code",
   "execution_count": 11,
   "metadata": {},
   "outputs": [
    {
     "data": {
      "text/html": [
       "<div>\n",
       "<style scoped>\n",
       "    .dataframe tbody tr th:only-of-type {\n",
       "        vertical-align: middle;\n",
       "    }\n",
       "\n",
       "    .dataframe tbody tr th {\n",
       "        vertical-align: top;\n",
       "    }\n",
       "\n",
       "    .dataframe thead th {\n",
       "        text-align: right;\n",
       "    }\n",
       "</style>\n",
       "<table border=\"1\" class=\"dataframe\">\n",
       "  <thead>\n",
       "    <tr style=\"text-align: right;\">\n",
       "      <th></th>\n",
       "      <th>count</th>\n",
       "      <th>mean</th>\n",
       "      <th>std</th>\n",
       "      <th>min</th>\n",
       "      <th>25%</th>\n",
       "      <th>50%</th>\n",
       "      <th>75%</th>\n",
       "      <th>max</th>\n",
       "    </tr>\n",
       "  </thead>\n",
       "  <tbody>\n",
       "    <tr>\n",
       "      <th>male</th>\n",
       "      <td>4238.0</td>\n",
       "      <td>0.429212</td>\n",
       "      <td>0.495022</td>\n",
       "      <td>0.00</td>\n",
       "      <td>0.00</td>\n",
       "      <td>0.0</td>\n",
       "      <td>1.000</td>\n",
       "      <td>1.0</td>\n",
       "    </tr>\n",
       "    <tr>\n",
       "      <th>age</th>\n",
       "      <td>4238.0</td>\n",
       "      <td>49.584946</td>\n",
       "      <td>8.572160</td>\n",
       "      <td>32.00</td>\n",
       "      <td>42.00</td>\n",
       "      <td>49.0</td>\n",
       "      <td>56.000</td>\n",
       "      <td>70.0</td>\n",
       "    </tr>\n",
       "    <tr>\n",
       "      <th>education</th>\n",
       "      <td>4133.0</td>\n",
       "      <td>1.978950</td>\n",
       "      <td>1.019791</td>\n",
       "      <td>1.00</td>\n",
       "      <td>1.00</td>\n",
       "      <td>2.0</td>\n",
       "      <td>3.000</td>\n",
       "      <td>4.0</td>\n",
       "    </tr>\n",
       "    <tr>\n",
       "      <th>currentSmoker</th>\n",
       "      <td>4238.0</td>\n",
       "      <td>0.494101</td>\n",
       "      <td>0.500024</td>\n",
       "      <td>0.00</td>\n",
       "      <td>0.00</td>\n",
       "      <td>0.0</td>\n",
       "      <td>1.000</td>\n",
       "      <td>1.0</td>\n",
       "    </tr>\n",
       "    <tr>\n",
       "      <th>cigsPerDay</th>\n",
       "      <td>4209.0</td>\n",
       "      <td>9.003089</td>\n",
       "      <td>11.920094</td>\n",
       "      <td>0.00</td>\n",
       "      <td>0.00</td>\n",
       "      <td>0.0</td>\n",
       "      <td>20.000</td>\n",
       "      <td>70.0</td>\n",
       "    </tr>\n",
       "    <tr>\n",
       "      <th>BPMeds</th>\n",
       "      <td>4185.0</td>\n",
       "      <td>0.029630</td>\n",
       "      <td>0.169584</td>\n",
       "      <td>0.00</td>\n",
       "      <td>0.00</td>\n",
       "      <td>0.0</td>\n",
       "      <td>0.000</td>\n",
       "      <td>1.0</td>\n",
       "    </tr>\n",
       "    <tr>\n",
       "      <th>prevalentStroke</th>\n",
       "      <td>4238.0</td>\n",
       "      <td>0.005899</td>\n",
       "      <td>0.076587</td>\n",
       "      <td>0.00</td>\n",
       "      <td>0.00</td>\n",
       "      <td>0.0</td>\n",
       "      <td>0.000</td>\n",
       "      <td>1.0</td>\n",
       "    </tr>\n",
       "    <tr>\n",
       "      <th>prevalentHyp</th>\n",
       "      <td>4238.0</td>\n",
       "      <td>0.310524</td>\n",
       "      <td>0.462763</td>\n",
       "      <td>0.00</td>\n",
       "      <td>0.00</td>\n",
       "      <td>0.0</td>\n",
       "      <td>1.000</td>\n",
       "      <td>1.0</td>\n",
       "    </tr>\n",
       "    <tr>\n",
       "      <th>diabetes</th>\n",
       "      <td>4238.0</td>\n",
       "      <td>0.025720</td>\n",
       "      <td>0.158316</td>\n",
       "      <td>0.00</td>\n",
       "      <td>0.00</td>\n",
       "      <td>0.0</td>\n",
       "      <td>0.000</td>\n",
       "      <td>1.0</td>\n",
       "    </tr>\n",
       "    <tr>\n",
       "      <th>totChol</th>\n",
       "      <td>4188.0</td>\n",
       "      <td>236.721585</td>\n",
       "      <td>44.590334</td>\n",
       "      <td>107.00</td>\n",
       "      <td>206.00</td>\n",
       "      <td>234.0</td>\n",
       "      <td>263.000</td>\n",
       "      <td>696.0</td>\n",
       "    </tr>\n",
       "    <tr>\n",
       "      <th>sysBP</th>\n",
       "      <td>4238.0</td>\n",
       "      <td>132.352407</td>\n",
       "      <td>22.038097</td>\n",
       "      <td>83.50</td>\n",
       "      <td>117.00</td>\n",
       "      <td>128.0</td>\n",
       "      <td>144.000</td>\n",
       "      <td>295.0</td>\n",
       "    </tr>\n",
       "    <tr>\n",
       "      <th>diaBP</th>\n",
       "      <td>4238.0</td>\n",
       "      <td>82.893464</td>\n",
       "      <td>11.910850</td>\n",
       "      <td>48.00</td>\n",
       "      <td>75.00</td>\n",
       "      <td>82.0</td>\n",
       "      <td>89.875</td>\n",
       "      <td>142.5</td>\n",
       "    </tr>\n",
       "    <tr>\n",
       "      <th>BMI</th>\n",
       "      <td>4219.0</td>\n",
       "      <td>25.802008</td>\n",
       "      <td>4.080111</td>\n",
       "      <td>15.54</td>\n",
       "      <td>23.07</td>\n",
       "      <td>25.4</td>\n",
       "      <td>28.040</td>\n",
       "      <td>56.8</td>\n",
       "    </tr>\n",
       "    <tr>\n",
       "      <th>heartRate</th>\n",
       "      <td>4237.0</td>\n",
       "      <td>75.878924</td>\n",
       "      <td>12.026596</td>\n",
       "      <td>44.00</td>\n",
       "      <td>68.00</td>\n",
       "      <td>75.0</td>\n",
       "      <td>83.000</td>\n",
       "      <td>143.0</td>\n",
       "    </tr>\n",
       "    <tr>\n",
       "      <th>glucose</th>\n",
       "      <td>3850.0</td>\n",
       "      <td>81.966753</td>\n",
       "      <td>23.959998</td>\n",
       "      <td>40.00</td>\n",
       "      <td>71.00</td>\n",
       "      <td>78.0</td>\n",
       "      <td>87.000</td>\n",
       "      <td>394.0</td>\n",
       "    </tr>\n",
       "    <tr>\n",
       "      <th>TenYearCHD</th>\n",
       "      <td>4238.0</td>\n",
       "      <td>0.151958</td>\n",
       "      <td>0.359023</td>\n",
       "      <td>0.00</td>\n",
       "      <td>0.00</td>\n",
       "      <td>0.0</td>\n",
       "      <td>0.000</td>\n",
       "      <td>1.0</td>\n",
       "    </tr>\n",
       "  </tbody>\n",
       "</table>\n",
       "</div>"
      ],
      "text/plain": [
       "                  count        mean        std     min     25%    50%  \\\n",
       "male             4238.0    0.429212   0.495022    0.00    0.00    0.0   \n",
       "age              4238.0   49.584946   8.572160   32.00   42.00   49.0   \n",
       "education        4133.0    1.978950   1.019791    1.00    1.00    2.0   \n",
       "currentSmoker    4238.0    0.494101   0.500024    0.00    0.00    0.0   \n",
       "cigsPerDay       4209.0    9.003089  11.920094    0.00    0.00    0.0   \n",
       "BPMeds           4185.0    0.029630   0.169584    0.00    0.00    0.0   \n",
       "prevalentStroke  4238.0    0.005899   0.076587    0.00    0.00    0.0   \n",
       "prevalentHyp     4238.0    0.310524   0.462763    0.00    0.00    0.0   \n",
       "diabetes         4238.0    0.025720   0.158316    0.00    0.00    0.0   \n",
       "totChol          4188.0  236.721585  44.590334  107.00  206.00  234.0   \n",
       "sysBP            4238.0  132.352407  22.038097   83.50  117.00  128.0   \n",
       "diaBP            4238.0   82.893464  11.910850   48.00   75.00   82.0   \n",
       "BMI              4219.0   25.802008   4.080111   15.54   23.07   25.4   \n",
       "heartRate        4237.0   75.878924  12.026596   44.00   68.00   75.0   \n",
       "glucose          3850.0   81.966753  23.959998   40.00   71.00   78.0   \n",
       "TenYearCHD       4238.0    0.151958   0.359023    0.00    0.00    0.0   \n",
       "\n",
       "                     75%    max  \n",
       "male               1.000    1.0  \n",
       "age               56.000   70.0  \n",
       "education          3.000    4.0  \n",
       "currentSmoker      1.000    1.0  \n",
       "cigsPerDay        20.000   70.0  \n",
       "BPMeds             0.000    1.0  \n",
       "prevalentStroke    0.000    1.0  \n",
       "prevalentHyp       1.000    1.0  \n",
       "diabetes           0.000    1.0  \n",
       "totChol          263.000  696.0  \n",
       "sysBP            144.000  295.0  \n",
       "diaBP             89.875  142.5  \n",
       "BMI               28.040   56.8  \n",
       "heartRate         83.000  143.0  \n",
       "glucose           87.000  394.0  \n",
       "TenYearCHD         0.000    1.0  "
      ]
     },
     "execution_count": 11,
     "metadata": {},
     "output_type": "execute_result"
    }
   ],
   "source": [
    "data.describe().transpose()"
   ]
  },
  {
   "cell_type": "code",
   "execution_count": 12,
   "metadata": {
    "collapsed": true
   },
   "outputs": [
    {
     "data": {
      "image/png": "[encoded data removed]",
      "text/plain": [
       "<Figure size 432x288 with 1 Axes>"
      ]
     },
     "metadata": {
      "needs_background": "light"
     },
     "output_type": "display_data"
    },
    {
     "data": {
      "image/png": "[encoded data removed]",
      "text/plain": [
       "<Figure size 432x288 with 1 Axes>"
      ]
     },
     "metadata": {
      "needs_background": "light"
     },
     "output_type": "display_data"
    },
    {
     "data": {
      "image/png": "[encoded data removed]",
      "text/plain": [
       "<Figure size 432x288 with 1 Axes>"
      ]
     },
     "metadata": {
      "needs_background": "light"
     },
     "output_type": "display_data"
    },
    {
     "data": {
      "image/png": "[encoded data removed]",
      "text/plain": [
       "<Figure size 432x288 with 1 Axes>"
      ]
     },
     "metadata": {
      "needs_background": "light"
     },
     "output_type": "display_data"
    },
    {
     "data": {
      "image/png": "[encoded data removed]",
      "text/plain": [
       "<Figure size 432x288 with 1 Axes>"
      ]
     },
     "metadata": {
      "needs_background": "light"
     },
     "output_type": "display_data"
    },
    {
     "data": {
      "image/png": "[encoded data removed]",
      "text/plain": [
       "<Figure size 432x288 with 1 Axes>"
      ]
     },
     "metadata": {
      "needs_background": "light"
     },
     "output_type": "display_data"
    },
    {
     "data": {
      "image/png": "[encoded data removed]",
      "text/plain": [
       "<Figure size 432x288 with 1 Axes>"
      ]
     },
     "metadata": {
      "needs_background": "light"
     },
     "output_type": "display_data"
    },
    {
     "data": {
      "image/png": "[encoded data removed]",
      "text/plain": [
       "<Figure size 432x288 with 1 Axes>"
      ]
     },
     "metadata": {
      "needs_background": "light"
     },
     "output_type": "display_data"
    },
    {
     "data": {
      "image/png": "[encoded data removed]",
      "text/plain": [
       "<Figure size 432x288 with 1 Axes>"
      ]
     },
     "metadata": {
      "needs_background": "light"
     },
     "output_type": "display_data"
    },
    {
     "data": {
      "image/png": "[encoded data removed]",
      "text/plain": [
       "<Figure size 432x288 with 1 Axes>"
      ]
     },
     "metadata": {
      "needs_background": "light"
     },
     "output_type": "display_data"
    },
    {
     "data": {
      "image/png": "[encoded data removed]",
      "text/plain": [
       "<Figure size 432x288 with 1 Axes>"
      ]
     },
     "metadata": {
      "needs_background": "light"
     },
     "output_type": "display_data"
    },
    {
     "data": {
      "image/png": "[encoded data removed]",
      "text/plain": [
       "<Figure size 432x288 with 1 Axes>"
      ]
     },
     "metadata": {
      "needs_background": "light"
     },
     "output_type": "display_data"
    },
    {
     "data": {
      "image/png": "[encoded data removed]",
      "text/plain": [
       "<Figure size 432x288 with 1 Axes>"
      ]
     },
     "metadata": {
      "needs_background": "light"
     },
     "output_type": "display_data"
    },
    {
     "data": {
      "image/png": "[encoded data removed]",
      "text/plain": [
       "<Figure size 432x288 with 1 Axes>"
      ]
     },
     "metadata": {
      "needs_background": "light"
     },
     "output_type": "display_data"
    },
    {
     "data": {
      "image/png": "[encoded data removed]",
      "text/plain": [
       "<Figure size 432x288 with 1 Axes>"
      ]
     },
     "metadata": {
      "needs_background": "light"
     },
     "output_type": "display_data"
    },
    {
     "data": {
      "image/png": "[encoded data removed]",
      "text/plain": [
       "<Figure size 432x288 with 1 Axes>"
      ]
     },
     "metadata": {
      "needs_background": "light"
     },
     "output_type": "display_data"
    }
   ],
   "source": [
    "for col in data:\n",
    "    data[[col]].boxplot()\n",
    "    plt.title(\"Plot of %s\" %col)\n",
    "    plt.show()"
   ]
  },
  {
   "cell_type": "code",
   "execution_count": 21,
   "metadata": {},
   "outputs": [
    {
     "data": {
      "text/plain": [
       "<matplotlib.axes._subplots.AxesSubplot at 0x15bf6490>"
      ]
     },
     "execution_count": 21,
     "metadata": {},
     "output_type": "execute_result"
    },
    {
     "data": {
      "image/png": "[encoded data removed]",
      "text/plain": [
       "<Figure size 432x288 with 1 Axes>"
      ]
     },
     "metadata": {
      "needs_background": "light"
     },
     "output_type": "display_data"
    }
   ],
   "source": [
    "values = data['TenYearCHD'].value_counts()\n",
    "values.plot(kind = 'bar')"
   ]
  },
  {
   "cell_type": "code",
   "execution_count": 22,
   "metadata": {},
   "outputs": [],
   "source": [
    "for col in data:\n",
    "    data[col] = data[col].ffill().bfill()"
   ]
  },
  {
   "cell_type": "code",
   "execution_count": 23,
   "metadata": {},
   "outputs": [
    {
     "data": {
      "text/plain": [
       "male               0\n",
       "age                0\n",
       "education          0\n",
       "currentSmoker      0\n",
       "cigsPerDay         0\n",
       "BPMeds             0\n",
       "prevalentStroke    0\n",
       "prevalentHyp       0\n",
       "diabetes           0\n",
       "totChol            0\n",
       "sysBP              0\n",
       "diaBP              0\n",
       "BMI                0\n",
       "heartRate          0\n",
       "glucose            0\n",
       "TenYearCHD         0\n",
       "dtype: int64"
      ]
     },
     "execution_count": 23,
     "metadata": {},
     "output_type": "execute_result"
    }
   ],
   "source": [
    "data.isna().sum()"
   ]
  },
  {
   "cell_type": "code",
   "execution_count": 25,
   "metadata": {},
   "outputs": [],
   "source": [
    "train, test = train_test_split(data, test_size =0.25)"
   ]
  },
  {
   "cell_type": "code",
   "execution_count": 26,
   "metadata": {},
   "outputs": [
    {
     "data": {
      "text/plain": [
       "((3178, 16), (1060, 16))"
      ]
     },
     "execution_count": 26,
     "metadata": {},
     "output_type": "execute_result"
    }
   ],
   "source": [
    "train.shape, test.shape"
   ]
  },
  {
   "cell_type": "code",
   "execution_count": 27,
   "metadata": {},
   "outputs": [],
   "source": [
    "train_x = train.drop('TenYearCHD', axis = 1)\n",
    "train_y = train['TenYearCHD']\n",
    "\n",
    "test_x = test.drop('TenYearCHD', axis = 1)\n",
    "test_y = test['TenYearCHD']"
   ]
  },
  {
   "cell_type": "code",
   "execution_count": 36,
   "metadata": {},
   "outputs": [
    {
     "data": {
      "text/plain": [
       "LogisticRegression(solver='newton-cg')"
      ]
     },
     "execution_count": 36,
     "metadata": {},
     "output_type": "execute_result"
    }
   ],
   "source": [
    "model = LogisticRegression(solver = 'newton-cg')\n",
    "\n",
    "model.fit(train_x, train_y)"
   ]
  },
  {
   "cell_type": "code",
   "execution_count": 40,
   "metadata": {},
   "outputs": [
    {
     "data": {
      "text/plain": [
       "0.8452830188679246"
      ]
     },
     "execution_count": 40,
     "metadata": {},
     "output_type": "execute_result"
    }
   ],
   "source": [
    "pred = model.predict(test_x)\n",
    "accuracy_score(pred, test_y)"
   ]
  },
  {
   "cell_type": "code",
   "execution_count": 41,
   "metadata": {},
   "outputs": [
    {
     "data": {
      "text/plain": [
       "0.7142857142857143"
      ]
     },
     "execution_count": 41,
     "metadata": {},
     "output_type": "execute_result"
    }
   ],
   "source": [
    "recall_score(pred, test_y)"
   ]
  },
  {
   "cell_type": "code",
   "execution_count": 44,
   "metadata": {
    "scrolled": true
   },
   "outputs": [
    {
     "data": {
      "text/plain": [
       "0.08670520231213873"
      ]
     },
     "execution_count": 44,
     "metadata": {},
     "output_type": "execute_result"
    }
   ],
   "source": [
    "precision_score(pred, test_y)"
   ]
  },
  {
   "cell_type": "code",
   "execution_count": 45,
   "metadata": {},
   "outputs": [
    {
     "data": {
      "text/plain": [
       "0.15463917525773194"
      ]
     },
     "execution_count": 45,
     "metadata": {},
     "output_type": "execute_result"
    }
   ],
   "source": [
    "f1_score(pred, test_y)"
   ]
  },
  {
   "cell_type": "code",
   "execution_count": 46,
   "metadata": {
    "scrolled": true
   },
   "outputs": [
    {
     "data": {
      "text/plain": [
       "array([[881, 158],\n",
       "       [  6,  15]], dtype=int64)"
      ]
     },
     "execution_count": 46,
     "metadata": {},
     "output_type": "execute_result"
    }
   ],
   "source": [
    "confusion_matrix(pred, test_y)"
   ]
  },
  {
   "cell_type": "code",
   "execution_count": 47,
   "metadata": {},
   "outputs": [
    {
     "data": {
      "text/plain": [
       "0.08670520231213873"
      ]
     },
     "execution_count": 47,
     "metadata": {},
     "output_type": "execute_result"
    }
   ],
   "source": [
    "15/(15+158)"
   ]
  },
  {
   "cell_type": "markdown",
   "metadata": {},
   "source": [
    "![Confusion Matrix](data:image/png;base64,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)"
   ]
  }
 ],
 "metadata": {
  "colab": {
   "collapsed_sections": [],
   "name": "Chapters 1 &  2.ipynb",
   "provenance": [],
   "toc_visible": true
  },
  "kernelspec": {
   "display_name": "Python 3",
   "language": "python",
   "name": "python3"
  },
  "language_info": {
   "codemirror_mode": {
    "name": "ipython",
    "version": 3
   },
   "file_extension": ".py",
   "mimetype": "text/x-python",
   "name": "python",
   "nbconvert_exporter": "python",
   "pygments_lexer": "ipython3",
   "version": "3.8.3"
  }
 },
 "nbformat": 4,
 "nbformat_minor": 1
}
