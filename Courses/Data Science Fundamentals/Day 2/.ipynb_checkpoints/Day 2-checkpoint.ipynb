{
 "cells": [
  {
   "cell_type": "markdown",
   "metadata": {
    "colab_type": "text",
    "id": "ySkliCNYXQd5"
   },
   "source": [
    "<H1 > Welcome to Data Science Fundamentals: Pandas to Predictions</H1>\n",
    "\n",
    "<p align=\"center\">\n",
    "  <img src=\"Datafain logo.jpg\"/>\n",
    "</p>\n",
    "\n",
    "Hello. My name is [Ridwan Salahuddeen](https://www.linkedin.com/in/ridwan-salahuddeen/) and I shall be taking you through on this class.\n",
    "\n",
    "Follow [DataFain](https://www.linkedin.com/company/data-for-all-initiative) on LinkedIn"
   ]
  },
  {
   "cell_type": "markdown",
   "metadata": {
    "colab_type": "text",
    "id": "LlUIqC7QcU0b"
   },
   "source": [
    "## Table of Contents\n",
    "<font >\n",
    "<ol>\n",
    "<li> Ice Breaker: What is Data Science?, Data Science Tools, Numpy Introduction, Quiz 1\n",
    "<li> Importance of Numpy,More Hands-on Use of Numpy,Quiz 2,Assignment 1\n",
    "<li> Introduction to Pandas: Creating Dataframes and Reading From Files,Quiz 3\n",
    "<li> More on Pandas: Manipulating Dataframes,Quiz 4,Assignment 2\n",
    "<li> Introduction to Matplotlib: Plotting Simple Charts,Quiz 5\n",
    "    \n",
    "<li> More on Matplotlib: Drawing Inference from plots,Quiz 6,Assignment 3\n",
    "<li> Types of Machine Learning Algorithms,Quiz 7\n",
    "<li> Understanding Learning Algorithms - Logistic Regression,Quiz 8,Assignment 4\n",
    "<li> Using Sci-Kit Learn: Logistic Regression,Sample Classification Problem1,Quiz 9\n",
    "<li> Sample Classification Problem 2,Quiz 10,Assignment 5\n",
    "</ol>\n",
    "</font>"
   ]
  },
  {
   "cell_type": "markdown",
   "metadata": {
    "colab_type": "text",
    "id": "jHROXA9Xall1"
   },
   "source": [
    "# Ice Breaker: What is Data Science? Data Science Tools - Numpy Introduction - Quiz 1"
   ]
  },
  {
   "cell_type": "markdown",
   "metadata": {},
   "source": [
    "# Content\n",
    "\n",
    "### A bit of history\n",
    "<img src  ='quote.png'>\n",
    "\n",
    "<!-- Over the past years, the term Data Science -->\n",
    "Before the turn of the millenium, the term Data was only sparingly used. However, since the turn of the millenium, there has been a rise in the practice and use of the term.\n",
    "\n",
    "#### Timelines\n",
    "\n",
    "* **1996**\n",
    "\n",
    ">For example, one of the earliest mention of the term Data Science in the context it is used today happened in 1996 in a conference meeting by the members of the International Federation of Classification Societies (IFCS), with a mention of Data Science found in the title (“Data science, classification, and related methods”)\n",
    "\n",
    "* **2002** \n",
    "\n",
    "> Launch of Data Science Journal, publishing papers on “the management of data and databases in Science and Technology\n",
    "\n",
    "* **2009**\n",
    "\n",
    "> Hal Varian, Google’s Chief Economist, tells the McKinsey Quarterly: “I keep saying the sexy job in the next ten years will be statisticians. People think I’m joking, but who would’ve guessed that computer engineers would’ve been the sexy job of the 1990s? The ability to take data—to be able to understand it, to process it, to extract value from it, to visualize it, to communicate it—that’s going to be a hugely important skill in the next decades… Because now we really do have essentially free and ubiquitous data. So the complimentary scarce factor is the ability to understand that data and extract value from it… I do think those skills—of being able to access, understand, and communicate the insights you get from data analysis—are going to be extremely important. Managers need to be able to access and understand the data themselves.”\n",
    "\n",
    "[Source: Forbes](https://www.forbes.com/sites/gilpress/2013/05/28/a-very-short-history-of-data-science/#89bed3155cfc)"
   ]
  },
  {
   "cell_type": "markdown",
   "metadata": {},
   "source": [
    "### A definition of Data Science\n",
    "\n",
    "> * Data science is an inter-disciplinary field that uses scientific methods, processes, algorithms and systems to extract knowledge and insights from many structural and unstructured data.\n",
    "> * Data science is a \"concept to unify statistics, data analysis, machine learning, domain knowledge and their related methods\" in order to \"understand and analyze actual phenomena\" with data.\n",
    "\n",
    "[Wikipedia](https://en.wikipedia.org/wiki/Data_science)\n"
   ]
  },
  {
   "cell_type": "markdown",
   "metadata": {},
   "source": [
    "### Associated Fields of DS\n",
    "The following fields all relatate to Data Science and practitioners of Data Science can find themselves doing any of it.\n",
    "***\n",
    ">* Statistics\n",
    ">* Machine Learning\n",
    ">* Predictive Modelling\n",
    ">* Data Analysis\n",
    ">* Data Visualization\n",
    ">* Data Mining\n",
    ">* Clustering and Cluster Analysis\n",
    ">* Artificial intelligence\n",
    ">* Mathematical Modelling\n",
    ">* Big data Analytics\n",
    ">* Deep Learning\n",
    ">* Reinforcement Learning\n",
    ">* Data Engineering\n",
    ">* Business Intelligence, etc.\n",
    "***\n",
    "\n",
    "Anybody who practices any of the above field can arguable be called a Data Scientist (which is a much more generalist term)."
   ]
  },
  {
   "cell_type": "markdown",
   "metadata": {},
   "source": [
    "### Data Scientist Stack\n",
    "***\n",
    "**What Skills Do You Need to Be a Data Scientist?**\n",
    "\n",
    "A data scientist is said to be a person who knows just enough **programming (Python, C++, Java, etc), statistics (or mathematics) and domain knowledge (business knowledge in business field, medical knowledge in medicine, geography knowledge in geographical information systems, etc)** to be able to function in the role."
   ]
  },
  {
   "cell_type": "markdown",
   "metadata": {},
   "source": [
    "## NumPy Basics\n",
    ">* What is Numpy\n",
    ">* The Basics\n",
    ">* Creating Arrays\n",
    ">* Indexing, Slicing and Iterating"
   ]
  },
  {
   "cell_type": "markdown",
   "metadata": {},
   "source": [
    "***\n",
    "**PRE-REQUISITES**\n",
    "***\n",
    "\n",
    "This program assumes that you have a some foundational knowledge of Python programming language (or any other language)"
   ]
  },
  {
   "cell_type": "markdown",
   "metadata": {},
   "source": [
    "### What is NumPy?\n",
    "\n",
    "NumPy stands for 'Numerical Python'. It is a Python Library that supports large, multi-dimensional **arrays and matrices**. It also offers a large collection of **high-level mathematical functions** that operate on these arrays."
   ]
  },
  {
   "cell_type": "markdown",
   "metadata": {},
   "source": [
    "### Installing NumPy\n",
    "\n",
    "Open command prompt (by searching for 'command prompt' from windows menu) and type `pip install numpy`. Press enter (return)."
   ]
  },
  {
   "cell_type": "markdown",
   "metadata": {},
   "source": [
    "### The Basics\n",
    "\n",
    "**Array**\n",
    "\n",
    "A numpy array is a grid of values, all of the same type, and is indexed by a tuple of nonnegative integers."
   ]
  },
  {
   "cell_type": "markdown",
   "metadata": {},
   "source": [
    "**Creating an Array**\n",
    "\n",
    "\n",
    "An array can be created from a list and its values accessed by indexing, i.e., `array[2]` will access the third index item in array object `array`."
   ]
  },
  {
   "cell_type": "markdown",
   "metadata": {},
   "source": [
    "`numpy.array(object, dtype=None, copy=True, order='K', subok=False, ndmin=0)`"
   ]
  },
  {
   "cell_type": "code",
   "execution_count": 3,
   "metadata": {},
   "outputs": [],
   "source": [
    "import numpy as np"
   ]
  },
  {
   "cell_type": "code",
   "execution_count": 7,
   "metadata": {
    "collapsed": true
   },
   "outputs": [
    {
     "name": "stdout",
     "output_type": "stream",
     "text": [
      "Help on built-in function array in module numpy:\n",
      "\n",
      "array(...)\n",
      "    array(object, dtype=None, copy=True, order='K', subok=False, ndmin=0)\n",
      "    \n",
      "    Create an array.\n",
      "    \n",
      "    Parameters\n",
      "    ----------\n",
      "    object : array_like\n",
      "        An array, any object exposing the array interface, an object whose\n",
      "        __array__ method returns an array, or any (nested) sequence.\n",
      "    dtype : data-type, optional\n",
      "        The desired data-type for the array.  If not given, then the type will\n",
      "        be determined as the minimum type required to hold the objects in the\n",
      "        sequence.\n",
      "    copy : bool, optional\n",
      "        If true (default), then the object is copied.  Otherwise, a copy will\n",
      "        only be made if __array__ returns a copy, if obj is a nested sequence,\n",
      "        or if a copy is needed to satisfy any of the other requirements\n",
      "        (`dtype`, `order`, etc.).\n",
      "    order : {'K', 'A', 'C', 'F'}, optional\n",
      "        Specify the memory layout of the array. If object is not an array, the\n",
      "        newly created array will be in C order (row major) unless 'F' is\n",
      "        specified, in which case it will be in Fortran order (column major).\n",
      "        If object is an array the following holds.\n",
      "    \n",
      "        ===== ========= ===================================================\n",
      "        order  no copy                     copy=True\n",
      "        ===== ========= ===================================================\n",
      "        'K'   unchanged F & C order preserved, otherwise most similar order\n",
      "        'A'   unchanged F order if input is F and not C, otherwise C order\n",
      "        'C'   C order   C order\n",
      "        'F'   F order   F order\n",
      "        ===== ========= ===================================================\n",
      "    \n",
      "        When ``copy=False`` and a copy is made for other reasons, the result is\n",
      "        the same as if ``copy=True``, with some exceptions for `A`, see the\n",
      "        Notes section. The default order is 'K'.\n",
      "    subok : bool, optional\n",
      "        If True, then sub-classes will be passed-through, otherwise\n",
      "        the returned array will be forced to be a base-class array (default).\n",
      "    ndmin : int, optional\n",
      "        Specifies the minimum number of dimensions that the resulting\n",
      "        array should have.  Ones will be pre-pended to the shape as\n",
      "        needed to meet this requirement.\n",
      "    \n",
      "    Returns\n",
      "    -------\n",
      "    out : ndarray\n",
      "        An array object satisfying the specified requirements.\n",
      "    \n",
      "    See Also\n",
      "    --------\n",
      "    empty_like : Return an empty array with shape and type of input.\n",
      "    ones_like : Return an array of ones with shape and type of input.\n",
      "    zeros_like : Return an array of zeros with shape and type of input.\n",
      "    full_like : Return a new array with shape of input filled with value.\n",
      "    empty : Return a new uninitialized array.\n",
      "    ones : Return a new array setting values to one.\n",
      "    zeros : Return a new array setting values to zero.\n",
      "    full : Return a new array of given shape filled with value.\n",
      "    \n",
      "    \n",
      "    Notes\n",
      "    -----\n",
      "    When order is 'A' and `object` is an array in neither 'C' nor 'F' order,\n",
      "    and a copy is forced by a change in dtype, then the order of the result is\n",
      "    not necessarily 'C' as expected. This is likely a bug.\n",
      "    \n",
      "    Examples\n",
      "    --------\n",
      "    >>> np.array([1, 2, 3])\n",
      "    array([1, 2, 3])\n",
      "    \n",
      "    Upcasting:\n",
      "    \n",
      "    >>> np.array([1, 2, 3.0])\n",
      "    array([ 1.,  2.,  3.])\n",
      "    \n",
      "    More than one dimension:\n",
      "    \n",
      "    >>> np.array([[1, 2], [3, 4]])\n",
      "    array([[1, 2],\n",
      "           [3, 4]])\n",
      "    \n",
      "    Minimum dimensions 2:\n",
      "    \n",
      "    >>> np.array([1, 2, 3], ndmin=2)\n",
      "    array([[1, 2, 3]])\n",
      "    \n",
      "    Type provided:\n",
      "    \n",
      "    >>> np.array([1, 2, 3], dtype=complex)\n",
      "    array([ 1.+0.j,  2.+0.j,  3.+0.j])\n",
      "    \n",
      "    Data-type consisting of more than one element:\n",
      "    \n",
      "    >>> x = np.array([(1,2),(3,4)],dtype=[('a','<i4'),('b','<i4')])\n",
      "    >>> x['a']\n",
      "    array([1, 3])\n",
      "    \n",
      "    Creating an array from sub-classes:\n",
      "    \n",
      "    >>> np.array(np.mat('1 2; 3 4'))\n",
      "    array([[1, 2],\n",
      "           [3, 4]])\n",
      "    \n",
      "    >>> np.array(np.mat('1 2; 3 4'), subok=True)\n",
      "    matrix([[1, 2],\n",
      "            [3, 4]])\n",
      "\n"
     ]
    }
   ],
   "source": [
    "help(np.array)"
   ]
  },
  {
   "cell_type": "code",
   "execution_count": 8,
   "metadata": {
    "scrolled": false
   },
   "outputs": [
    {
     "name": "stdout",
     "output_type": "stream",
     "text": [
      "<class 'numpy.ndarray'>\n",
      "[3. 1. 4. 0.]\n",
      "(4,)\n",
      "float64\n",
      "4\n"
     ]
    }
   ],
   "source": [
    "# Example 1: 1-D arrray\n",
    "\n",
    "a = np.array([3.0, 1.0, 4.0, 0.0])\n",
    "print(type(a))\n",
    "print(a)\n",
    "print(a.shape)\n",
    "print(a.dtype)\n",
    "print(a.size)"
   ]
  },
  {
   "cell_type": "code",
   "execution_count": 11,
   "metadata": {},
   "outputs": [
    {
     "name": "stdout",
     "output_type": "stream",
     "text": [
      "<class 'numpy.ndarray'>\n",
      "[[2 5 9]\n",
      " [3 1 6]]\n",
      "(2, 3)\n",
      "int32\n"
     ]
    }
   ],
   "source": [
    "# Example 2: 2-D array\n",
    "\n",
    "a = np.array([[2, 5, 9], [3, 1, 6]])\n",
    "\n",
    "print(type(a))\n",
    "print(a)\n",
    "print(a.shape)\n",
    "print(a.dtype)"
   ]
  },
  {
   "cell_type": "code",
   "execution_count": 12,
   "metadata": {},
   "outputs": [
    {
     "name": "stdout",
     "output_type": "stream",
     "text": [
      "[3.+0.j 5.+0.j 6.+0.j]\n"
     ]
    }
   ],
   "source": [
    "# Example 3: Specifying dtype parameter\n",
    "\n",
    "a = np.array([3, 5, 6], dtype = complex)\n",
    "print(a)"
   ]
  },
  {
   "cell_type": "markdown",
   "metadata": {},
   "source": [
    "**Array indexing**\n",
    "\n",
    "`array[4]` will return the forth index item in `array` object"
   ]
  },
  {
   "cell_type": "code",
   "execution_count": 13,
   "metadata": {},
   "outputs": [
    {
     "name": "stdout",
     "output_type": "stream",
     "text": [
      "(3, 4)\n",
      "\n",
      "[[7 4 6 2]\n",
      " [2 3 4 9]\n",
      " [5 1 0 3]]\n",
      "\n",
      "[7 4 6 2] [2 3 4 9] [5 1 0 3]\n",
      "\n",
      "6\n",
      "\n",
      "True\n",
      "\n"
     ]
    }
   ],
   "source": [
    "arr = np.array([[7,4,6, 2], [2,3,4, 9], [5,1,0,3]])\n",
    "\n",
    "print(arr.shape, end = '\\n\\n')\n",
    "\n",
    "print(arr, end = '\\n\\n')\n",
    "\n",
    "print(arr[0], arr[1], arr[2], end = '\\n\\n')\n",
    "\n",
    "print(arr[0,2], end = '\\n\\n')\n",
    "\n",
    "print(arr[0,2] == arr[0][2], end = '\\n\\n')"
   ]
  },
  {
   "cell_type": "markdown",
   "metadata": {},
   "source": [
    "**Creating arrays from functions**\n",
    "\n",
    "NumPy provides some functions for creating arrays without passing the array objects like we have done so far. Let us examine some of them"
   ]
  },
  {
   "cell_type": "code",
   "execution_count": 17,
   "metadata": {},
   "outputs": [
    {
     "name": "stdout",
     "output_type": "stream",
     "text": [
      "[ 0  1  2  3  4  5  6  7  8  9 10 11 12 13 14 15 16 17 18 19 20 21 22 23\n",
      " 24 25 26 27 28 29 30 31 32 33 34 35 36 37 38 39 40 41 42 43 44 45 46 47\n",
      " 48 49 50 51 52 53 54 55 56 57 58 59 60 61 62 63 64 65 66 67 68 69 70 71\n",
      " 72 73 74 75 76 77 78 79 80 81 82 83 84 85 86 87 88 89 90 91 92 93 94 95\n",
      " 96 97 98 99]\n",
      "[ 5  7  9 11 13]\n"
     ]
    }
   ],
   "source": [
    "# Example 1: numpy.arange([start,] stop[, step,], dtype=None)\n",
    "\n",
    "arr = np.arange(0, 100)\n",
    "print(arr)\n",
    "\n",
    "arr = np.arange(5, 15, 2)\n",
    "print(arr)"
   ]
  },
  {
   "cell_type": "code",
   "execution_count": null,
   "metadata": {},
   "outputs": [],
   "source": [
    "help(np.zeros)"
   ]
  },
  {
   "cell_type": "code",
   "execution_count": 18,
   "metadata": {},
   "outputs": [
    {
     "name": "stdout",
     "output_type": "stream",
     "text": [
      "[[0. 0. 0. 0.]\n",
      " [0. 0. 0. 0.]\n",
      " [0. 0. 0. 0.]]\n",
      "\n",
      "\n",
      "[[[0. 0. 0. 0.]\n",
      "  [0. 0. 0. 0.]]\n",
      "\n",
      " [[0. 0. 0. 0.]\n",
      "  [0. 0. 0. 0.]]\n",
      "\n",
      " [[0. 0. 0. 0.]\n",
      "  [0. 0. 0. 0.]]]\n"
     ]
    }
   ],
   "source": [
    "# Example 2: numpy.zeros(shape, dtype=float, order='C')\n",
    "\n",
    "arr = np.zeros((3,4))\n",
    "print(arr, end = '\\n\\n\\n')\n",
    "arr = np.zeros((3,2,4))\n",
    "print(arr)"
   ]
  },
  {
   "cell_type": "code",
   "execution_count": 19,
   "metadata": {},
   "outputs": [
    {
     "data": {
      "text/plain": [
       "array([[1., 1., 1., 1., 1.],\n",
       "       [1., 1., 1., 1., 1.],\n",
       "       [1., 1., 1., 1., 1.],\n",
       "       [1., 1., 1., 1., 1.]])"
      ]
     },
     "execution_count": 19,
     "metadata": {},
     "output_type": "execute_result"
    }
   ],
   "source": [
    "np.ones((4,5))"
   ]
  },
  {
   "cell_type": "markdown",
   "metadata": {},
   "source": [
    "**Additional Resources**\n",
    "\n",
    "* [Tutorials Point](https://www.tutorialspoint.com/numpy/)\n",
    "* [Numpy](https://numpy.org/devdocs/user/quickstart.html)"
   ]
  },
  {
   "cell_type": "code",
   "execution_count": null,
   "metadata": {},
   "outputs": [],
   "source": []
  }
 ],
 "metadata": {
  "colab": {
   "collapsed_sections": [],
   "name": "Chapters 1 &  2.ipynb",
   "provenance": [],
   "toc_visible": true
  },
  "kernelspec": {
   "display_name": "Python 3",
   "language": "python",
   "name": "python3"
  },
  "language_info": {
   "codemirror_mode": {
    "name": "ipython",
    "version": 3
   },
   "file_extension": ".py",
   "mimetype": "text/x-python",
   "name": "python",
   "nbconvert_exporter": "python",
   "pygments_lexer": "ipython3",
   "version": "3.8.3"
  }
 },
 "nbformat": 4,
 "nbformat_minor": 1
}
