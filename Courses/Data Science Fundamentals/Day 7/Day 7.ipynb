{
 "cells": [
  {
   "cell_type": "markdown",
   "metadata": {
    "colab_type": "text",
    "id": "ySkliCNYXQd5"
   },
   "source": [
    "<H1 > Welcome to Data Science Fundamentals: Pandas to Predictions</H1>\n",
    "\n",
    "<p align=\"center\">\n",
    "  <img src=\"Datafain logo.jpg\"/>\n",
    "</p>\n",
    "\n",
    "Hello. My name is [Ridwan Salahuddeen](https://www.linkedin.com/in/ridwan-salahuddeen/) and I shall be taking you through on this class.\n",
    "\n",
    "Follow [DataFain](https://www.linkedin.com/company/data-for-all-initiative) on LinkedIn"
   ]
  },
  {
   "cell_type": "markdown",
   "metadata": {
    "colab_type": "text",
    "id": "LlUIqC7QcU0b"
   },
   "source": [
    "## Table of Contents\n",
    "<font >\n",
    "<ol>\n",
    "<li> Ice Breaker: What is Data Science?, Data Science Tools, Numpy Introduction, Quiz 1\n",
    "<li> Importance of Numpy,More Hands-on Use of Numpy,Quiz 2,Assignment 1\n",
    "<li> Introduction to Pandas: Creating Dataframes and Reading From Files,Quiz 3\n",
    "<li> More on Pandas: Manipulating Dataframes,Quiz 4,Assignment 2\n",
    "<li> Introduction to Matplotlib: Plotting Simple Charts,Quiz 5\n",
    "    \n",
    "<li> More on Matplotlib: Drawing Inference from plots,Quiz 6,Assignment 3\n",
    "<li> Types of Machine Learning Algorithms,Quiz 7\n",
    "<li> Understanding Learning Algorithms - Logistic Regression,Quiz 8,Assignment 4\n",
    "<li> Using Sci-Kit Learn: Logistic Regression,Sample Classification Problem1,Quiz 9\n",
    "<li> Sample Classification Problem 2,Quiz 10,Assignment 5\n",
    "</ol>\n",
    "</font>"
   ]
  },
  {
   "cell_type": "markdown",
   "metadata": {},
   "source": [
    "# Types of Machine Learning Algorithms\n",
    "\n",
    "## What is Machine Learning\n",
    "\n",
    "> **Machine Learning is the process of making a machine learn the pattern that exists in data and to produce inference based on the learned patterns**"
   ]
  },
  {
   "cell_type": "markdown",
   "metadata": {},
   "source": [
<<<<<<< HEAD
    "![Categories of ML](https://docs.google.com/drawings/d/e/2PACX-1vRyVIqG5UGjEFslr2jbPtNUU_8In6wh1Gz2KpsoNXI20AusNyZ71CqvIfajHY-kxUHwgVw7Dd_-_vLH/pub?w=818&h=546)"
=======
    "<img src ='https://docs.google.com/drawings/d/e/2PACX-1vRyVIqG5UGjEFslr2jbPtNUU_8In6wh1Gz2KpsoNXI20AusNyZ71CqvIfajHY-kxUHwgVw7Dd_-_vLH/pub?w=818&h=546'/>"
>>>>>>> ca20c140fd9588fa6528ff9c25d0bb9b74cb648b
   ]
  },
  {
   "cell_type": "markdown",
   "metadata": {},
   "source": [
    "# What is Supervised Learning?\n",
    "\n",
    "> Supervised Learning is best thought about as learning the pattern in a dataset that has a mapping to some specified outputs. Intuitively, let us examint the conversation below:"
   ]
  },
  {
   "cell_type": "markdown",
   "metadata": {},
   "source": [
    "![Supervised Learning Data](https://docs.google.com/drawings/d/e/2PACX-1vQBE1-fexApB7CByrlXinHYdG3nKLWAWor_WDRoGbpHKnI5QU4jc3Z0YvpfDNWNbPTT7a1Q-hTR8XvT/pub?w=747&h=439)"
   ]
  },
  {
   "cell_type": "markdown",
   "metadata": {},
   "source": [
    "## >>> Learning From The Data Above"
   ]
  },
  {
   "cell_type": "markdown",
   "metadata": {},
   "source": [
    "![Supervised Learning Illustrations](https://docs.google.com/drawings/d/e/2PACX-1vToBXd0d0LTgyhUmoME18MAmkUPVPsbKoEIaOhpyupGLxQjCVivz09maX_JNIIOpcFexErlabJMPVgN/pub?w=1020&h=642)"
   ]
  },
  {
   "cell_type": "markdown",
   "metadata": {},
   "source": [
    "![Family of Supervised Learning Algorithms](https://docs.google.com/drawings/d/e/2PACX-1vSM_paWiZzQoS3vmsLRlx9MFRQJz-szHHDe52N4c9tfGLgI0OUKDvzR-mEBpa1islc2Llri5qBoC5kh/pub?w=1060&h=775)"
   ]
  },
  {
   "cell_type": "markdown",
   "metadata": {},
   "source": [
    "### k-Nearest Neighbor (kNN), Linear Regression, Logistic Regression and Decision Tree\n",
    "\n",
<<<<<<< HEAD
    "![Some Supervised Learning Illustrations](https://docs.google.com/drawings/d/e/2PACX-1vRK8ooMFh4hGaaVvDqFsAPCiUqYiwDpTMgxj_BVbUZK6mPFYHY2tIQIwFDq9Lh0LsC54P6ViO-3R4CG/pub?w=992&h=902)"
=======
    "<img src='https://docs.google.com/drawings/d/e/2PACX-1vRK8ooMFh4hGaaVvDqFsAPCiUqYiwDpTMgxj_BVbUZK6mPFYHY2tIQIwFDq9Lh0LsC54P6ViO-3R4CG/pub?w=992&h=902'/>"
>>>>>>> ca20c140fd9588fa6528ff9c25d0bb9b74cb648b
   ]
  },
  {
   "cell_type": "markdown",
   "metadata": {},
   "source": [
    "# What is Unsupervised Learning?\n",
    "\n",
    "> Unsupervised Learning is a method of learning that tries to group a set of data based exclusively on the patterns that exist in the date. It does not use an output mapping to guide it's grouping.\n",
    "\n",
<<<<<<< HEAD
    "![Unsupervised Learning Illustration](https://docs.google.com/drawings/d/e/2PACX-1vQi2K1oOgm8g1poeaQAt4ZATCL5fqp4iHOMvm27fr3hLUavZhWuIsp8znGYGGXexYeBpUHRDdqEhPr4/pub?w=1020&h=642)"
=======
    "<img src = 'https://docs.google.com/drawings/d/e/2PACX-1vQi2K1oOgm8g1poeaQAt4ZATCL5fqp4iHOMvm27fr3hLUavZhWuIsp8znGYGGXexYeBpUHRDdqEhPr4/pub?w=1020&h=642'/>"
>>>>>>> ca20c140fd9588fa6528ff9c25d0bb9b74cb648b
   ]
  },
  {
   "cell_type": "markdown",
   "metadata": {},
   "source": [
<<<<<<< HEAD
    "![Some Unsupervised Learning Algortihms](https://docs.google.com/drawings/d/e/2PACX-1vQuCbpexM0R8H-DE911jplFsz1dgKIIsCW7EVcgigu0osFHCXM7L59kGe3jjY6zg7IBFti7i6dHf1yi/pub?w=1016&h=642)"
   ]
  },
  {
   "cell_type": "markdown",
   "metadata": {},
   "source": [
    "# Reinforcement Learning\n",
    "\n",
    "> Reinforcement Learning is an area of machine learning that is concerned with how software agents learn from the interactions with their surrounding, through a notion of reward and punishment mechanism."
=======
    "<img src='https://docs.google.com/drawings/d/e/2PACX-1vQuCbpexM0R8H-DE911jplFsz1dgKIIsCW7EVcgigu0osFHCXM7L59kGe3jjY6zg7IBFti7i6dHf1yi/pub?w=1016&h=642'/>"
>>>>>>> ca20c140fd9588fa6528ff9c25d0bb9b74cb648b
   ]
  },
  {
   "cell_type": "code",
   "execution_count": null,
   "metadata": {},
   "outputs": [],
   "source": []
  }
 ],
 "metadata": {
  "colab": {
   "collapsed_sections": [],
   "name": "Chapters 1 &  2.ipynb",
   "provenance": [],
   "toc_visible": true
  },
  "kernelspec": {
   "display_name": "Python 3",
   "language": "python",
   "name": "python3"
  },
  "language_info": {
   "codemirror_mode": {
    "name": "ipython",
    "version": 3
   },
   "file_extension": ".py",
   "mimetype": "text/x-python",
   "name": "python",
   "nbconvert_exporter": "python",
   "pygments_lexer": "ipython3",
   "version": "3.8.3"
  }
 },
 "nbformat": 4,
 "nbformat_minor": 1
}
