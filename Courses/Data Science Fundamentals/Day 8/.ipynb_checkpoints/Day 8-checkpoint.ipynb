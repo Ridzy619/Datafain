{
 "cells": [
  {
   "cell_type": "markdown",
   "metadata": {
    "colab_type": "text",
    "id": "ySkliCNYXQd5"
   },
   "source": [
    "<H1 > Welcome to Data Science Fundamentals: Pandas to Predictions</H1>\n",
    "\n",
    "<p align=\"center\">\n",
    "  <img src=\"Datafain logo.jpg\"/>\n",
    "</p>\n",
    "\n",
    "Hello. My name is [Ridwan Salahuddeen](https://www.linkedin.com/in/ridwan-salahuddeen/) and I shall be taking you through on this class.\n",
    "\n",
    "Follow [DataFain](https://www.linkedin.com/company/data-for-all-initiative) on LinkedIn"
   ]
  },
  {
   "cell_type": "markdown",
   "metadata": {
    "colab_type": "text",
    "id": "LlUIqC7QcU0b"
   },
   "source": [
    "## Table of Contents\n",
    "<font >\n",
    "<ol>\n",
    "<li> Ice Breaker: What is Data Science?, Data Science Tools, Numpy Introduction, Quiz 1\n",
    "<li> Importance of Numpy,More Hands-on Use of Numpy,Quiz 2,Assignment 1\n",
    "<li> Introduction to Pandas: Creating Dataframes and Reading From Files,Quiz 3\n",
    "<li> More on Pandas: Manipulating Dataframes,Quiz 4,Assignment 2\n",
    "<li> Introduction to Matplotlib: Plotting Simple Charts,Quiz 5\n",
    "    \n",
    "<li> More on Matplotlib: Drawing Inference from plots,Quiz 6,Assignment 3\n",
    "<li> Types of Machine Learning Algorithms,Quiz 7\n",
    "<li> Understanding Learning Algorithms - Logistic Regression,Quiz 8,Assignment 4\n",
    "<li> Using Sci-Kit Learn: Logistic Regression,Sample Classification Problem1,Quiz 9\n",
    "<li> Sample Classification Problem 2,Quiz 10,Assignment 5\n",
    "</ol>\n",
    "</font>"
   ]
  },
  {
   "cell_type": "markdown",
   "metadata": {},
   "source": [
    "# Understanding Learning Algorithms: Logistic Regression"
   ]
  },
  {
   "cell_type": "markdown",
   "metadata": {},
   "source": [
    "* Definition of regression\n",
    "* Clarifying the concept of prediction as just an approximation\n",
    "* Contrasting linear and logistic regression\n",
    "* Mathematical representation of linear regression\n",
    "* Concept of Cost Function\n",
    "* The sigmoid function\n",
    "* Linear Regression from the Sklearn library\n",
    "* Logistic Regression from the Sklearn library"
   ]
  },
  {
   "cell_type": "markdown",
   "metadata": {},
   "source": [
    ">### What is Regression?"
   ]
  },
  {
   "cell_type": "markdown",
   "metadata": {},
   "source": [
    "**Regression** is the measure of the relationship between an dependent variable and one or more independent variable"
   ]
  },
  {
   "cell_type": "markdown",
   "metadata": {},
   "source": [
    ">### Clarifying the concept of prediction as just an approximation"
   ]
  },
  {
   "cell_type": "markdown",
   "metadata": {},
   "source": [
    "In regression analysis, the goal is to achieve a universal approximator for the given dataset. A universal approximator is one that has the least error given all the datapoints."
   ]
  },
  {
   "cell_type": "markdown",
   "metadata": {},
   "source": [
    ">### Contrasting linear and logistic regression"
   ]
  },
  {
   "cell_type": "markdown",
   "metadata": {},
   "source": [
    "**Linear regression** tries to provide an approximate output prediction given a set of idependent input variables. It is usually used for continuous outputs.\n",
    "\n",
    "For example: Given data about the average daily temperature, we can predict the next day temperature whose value can be value from the lowest possible temperature (if there is) to the hihgest possible temperture (if there is). This is a simple example of linear regression.\n",
    "\n",
    "|Daily_temp|Next_day_temp|\n",
    "|---|---|\n",
    "|34|32|\n",
    "|28| 31|\n",
    "|15|20|\n",
    "|30|32|\n",
    "|20|23|\n",
    "\n",
    "**Logistic Regression** is derived from linear regression, with a threshold value introduced to mark the boundry between the two classes (in the case of binary classification).\n",
    "\n",
    "Let us consider a slight modification to the example above where we are to predict if temperature will be high or low tomorrow, given the average daily temperature, assuming that the temperature is considered high if it exceeds 25. You will agree that the same model used above can be employed here, with the need to introduce a function that will convert the continuous valued output to H (for high temperature) or low (for low temperature). For convenience, these values can be represented with 1 and 0 respectively.\n",
    "\n",
    "|Daily_temp|Next_day_temp|\n",
    "|---|---|\n",
    "|34|H|\n",
    "|28|H|\n",
    "|15|L|\n",
    "|30|H|\n",
    "|20|L|"
   ]
  },
  {
   "cell_type": "markdown",
   "metadata": {},
   "source": [
    ">### Mathematical representation of linear regression"
   ]
  },
  {
   "cell_type": "markdown",
   "metadata": {},
   "source": [
    "The illustration above can be represented with a linear equation as shown below:\n",
    "\n",
    "$$Y = W_1X_1 + C$$\n",
    "\n",
    "Where: \n",
    "> * Y = output value\n",
    "> * X = input value or values\n",
    "> * C = intercept\n",
    "\n",
    "If a suitable value of W and C are determined, then, given any value of X, Y can be found.\n",
    "\n",
    "This illustrated using the plot below"
   ]
  },
  {
   "cell_type": "code",
   "execution_count": 243,
   "metadata": {},
   "outputs": [],
   "source": [
    "a = [34,32,\n",
    "28,31,\n",
    "15,20,\n",
    "30,32,\n",
    "20,23]\n",
    "x, y = a[::2], a[1::2]"
   ]
  },
  {
   "cell_type": "code",
   "execution_count": 244,
   "metadata": {},
   "outputs": [],
   "source": [
    "import matplotlib.pyplot as plt"
   ]
  },
  {
   "cell_type": "code",
   "execution_count": 257,
   "metadata": {},
   "outputs": [
    {
     "data": {
      "image/png": "[encoded data removed]",
      "text/plain": [
       "<Figure size 432x288 with 1 Axes>"
      ]
     },
     "metadata": {
      "needs_background": "light"
     },
     "output_type": "display_data"
    }
   ],
   "source": [
    "plt.scatter(x, y)\n",
    "plt.plot([12, 38], [20, 36])\n",
    "plt.show()"
   ]
  },
  {
   "cell_type": "markdown",
   "metadata": {},
   "source": [
    ">### Concept of Cost Function"
   ]
  },
  {
   "cell_type": "markdown",
   "metadata": {},
   "source": [
    "Since the model trains by trying to find the line of best fit, it is essential that we have a way of measuring how well the model is performing. This is achieved by defining what is know as cost function.\n",
    "\n",
    "A cost function will serve to nudge the model one way or the order depending on how it is performing.\n",
    "\n",
    "Common Cost Functions and their uses\n",
    "___\n",
    "1. Mean Absolute Error (used in regression)\n",
    "2. Mean Squared Error (used in regression)\n",
    "3. Cross Entropy Function (used in classification), etc.\n"
   ]
  },
  {
   "cell_type": "markdown",
   "metadata": {},
   "source": [
    ">### The sigmoid function"
   ]
  },
  {
   "cell_type": "markdown",
   "metadata": {},
   "source": [
    "A sigmoid function is called a non-linearity function. As shown in the earlier example about temperature prediction, logistic regression is a form of linear regression that has a set threshold for classifying a data point as one class or the other.\n",
    "\n",
    "Such thresholding is achieved using a sigmoid function as shown below:\n",
    "\n",
    "![Sigmoid Function](https://www.researchgate.net/profile/Knut_Kvaal/publication/239269767/figure/fig2/AS:643520205430784@1530438581076/An-illustration-of-the-signal-processing-in-a-sigmoid-function.png)\n",
    "\n",
    "A sigmoid function can be coded as shown below:\n"
   ]
  },
  {
   "cell_type": "code",
   "execution_count": 258,
   "metadata": {},
   "outputs": [],
   "source": [
    "import numpy as np\n",
    "\n",
    "def sigmoid(x):\n",
    "    out = 1/(1+np.exp(-x))\n",
    "    return out"
   ]
  },
  {
   "cell_type": "code",
   "execution_count": null,
   "metadata": {},
   "outputs": [],
   "source": [
    "# plotting sigmoid function\n"
   ]
  },
  {
   "cell_type": "markdown",
   "metadata": {},
   "source": [
    ">### Linear Regression from the Sklearn library"
   ]
  },
  {
   "cell_type": "markdown",
   "metadata": {},
   "source": [
    "We shall see how to use the Sklearn library for training a linear regression model\n",
    "\n",
    "You may install the Sklearn library using `pip install sklearn`\n",
    "\n",
    "The documentation can be accessed here: [Sklearn - linear regression](https://scikit-learn.org/stable/modules/generated/sklearn.linear_model.LinearRegression.html?highlight=linear%20regression#sklearn.linear_model.LinearRegression)"
   ]
  },
  {
   "cell_type": "code",
   "execution_count": 260,
   "metadata": {},
   "outputs": [],
   "source": [
    "# Load in the modules required\n",
    "import numpy as np\n",
    "import pandas as pd\n",
    "from sklearn.datasets import load_boston\n",
    "from sklearn.linear_model import LinearRegression"
   ]
  },
  {
   "cell_type": "code",
   "execution_count": 262,
   "metadata": {},
   "outputs": [],
   "source": [
    "# Load the dataset\n",
    "boston_data = load_boston()\n",
    "\n",
    "data=d = boston_data['data']\n",
    "target=t = boston_data['target']\n",
    "columns = boston_data['feature_names']"
   ]
  },
  {
   "cell_type": "markdown",
   "metadata": {},
   "source": [
    ">### Logistic Regression from the Sklearn library"
   ]
  },
  {
   "cell_type": "markdown",
   "metadata": {},
   "source": [
    "We shall see how to use the Sklearn library for training a logistic regression model\n",
    "\n",
    "\n",
    "The documentation can be accessed here: [Sklearn - logistic regression](https://scikit-learn.org/stable/modules/generated/sklearn.linear_model.LogisticRegression.html?highlight=logistic%20regression#sklearn.linear_model.LogisticRegression)"
   ]
  },
  {
   "cell_type": "code",
   "execution_count": null,
   "metadata": {},
   "outputs": [],
   "source": [
    "from sklearn.datasets import load_iris, load_boston"
   ]
  },
  {
   "cell_type": "code",
   "execution_count": null,
   "metadata": {},
   "outputs": [],
   "source": [
    "iris = load_iris()"
   ]
  },
  {
   "cell_type": "markdown",
   "metadata": {},
   "source": [
    "<img src = 'https://miro.medium.com/max/700/1*PQ8tdohapfm-YHlrRIRuOA.gif'/>\n",
    "\n",
    "Source: [Medium](https://towardsdatascience.com/introduction-to-logistic-regression-66248243c148)\n"
   ]
  }
 ],
 "metadata": {
  "colab": {
   "collapsed_sections": [],
   "name": "Chapters 1 &  2.ipynb",
   "provenance": [],
   "toc_visible": true
  },
  "kernelspec": {
   "display_name": "Python 3",
   "language": "python",
   "name": "python3"
  },
  "language_info": {
   "codemirror_mode": {
    "name": "ipython",
    "version": 3
   },
   "file_extension": ".py",
   "mimetype": "text/x-python",
   "name": "python",
   "nbconvert_exporter": "python",
   "pygments_lexer": "ipython3",
   "version": "3.8.3"
  }
 },
 "nbformat": 4,
 "nbformat_minor": 1
}
