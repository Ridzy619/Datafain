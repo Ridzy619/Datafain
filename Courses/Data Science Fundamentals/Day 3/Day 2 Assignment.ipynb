{
 "cells": [
  {
   "cell_type": "markdown",
   "metadata": {
    "colab_type": "text",
    "id": "ySkliCNYXQd5"
   },
   "source": [
    "<H1 > Welcome to Data Science Fundamentals: Pandas to Predictions</H1>\n",
    "\n",
    "<p align=\"center\">\n",
    "  <img src=\"Datafain logo.jpg\"/>\n",
    "</p>\n",
    "\n",
    "Hello. My name is [Ridwan Salahuddeen](https://www.linkedin.com/in/ridwan-salahuddeen/) and I shall be taking you through on this class.\n",
    "\n",
    "Follow [DataFain](https://www.linkedin.com/company/data-for-all-initiative) on LinkedIn"
   ]
  },
  {
   "cell_type": "markdown",
   "metadata": {},
   "source": [
    "# Assignment"
   ]
  },
  {
   "cell_type": "markdown",
   "metadata": {},
   "source": [
    "**Numpy has so many ways of creating arrays and we just mentioned a few. Likewise, it has so many operations that can be applied to arrays.**\n",
    "\n",
    "### TO DO\n",
    "\n",
    ">1. Choose any three new ways of creating numpy arrays.\n",
    ">2. Choose any three functions that operate on numpy arrays.\n",
    ">3. Write an LinkedIn, Medium or any blog post about the them.\n",
    ">4. Post your article on LinkedIn and tag Data For All Initiative.\n",
    ">5. Submit the URL to your post through the classroom.\n",
    "\n",
    "*N.B: Choose a captivating title for the post*, e.g `'You Probably Didn't Know Numpy Could Do This'`"
   ]
  },
  {
   "cell_type": "code",
   "execution_count": null,
   "metadata": {},
   "outputs": [],
   "source": []
  }
 ],
 "metadata": {
  "colab": {
   "collapsed_sections": [],
   "name": "Chapters 1 &  2.ipynb",
   "provenance": [],
   "toc_visible": true
  },
  "kernelspec": {
   "display_name": "Python 3",
   "language": "python",
   "name": "python3"
  },
  "language_info": {
   "codemirror_mode": {
    "name": "ipython",
    "version": 3
   },
   "file_extension": ".py",
   "mimetype": "text/x-python",
   "name": "python",
   "nbconvert_exporter": "python",
   "pygments_lexer": "ipython3",
   "version": "3.8.3"
  }
 },
 "nbformat": 4,
 "nbformat_minor": 1
}
