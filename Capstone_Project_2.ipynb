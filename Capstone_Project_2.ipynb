{
  "nbformat": 4,
  "nbformat_minor": 0,
  "metadata": {
    "colab": {
      "name": "Capstone Project 2.ipynb",
      "provenance": [],
      "collapsed_sections": [],
      "toc_visible": true,
      "authorship_tag": "ABX9TyNBItZ9Paz5FyBQiv7IdVaM",
      "include_colab_link": true
    },
    "kernelspec": {
      "name": "python3",
      "display_name": "Python 3"
    }
  },
  "cells": [
    {
      "cell_type": "markdown",
      "metadata": {
        "id": "view-in-github",
        "colab_type": "text"
      },
      "source": [
        "<a href=\"https://colab.research.google.com/github/Ridzy619/Datafain/blob/master/Capstone_Project_2.ipynb\" target=\"_parent\"><img src=\"https://colab.research.google.com/assets/colab-badge.svg\" alt=\"Open In Colab\"/></a>"
      ]
    },
    {
      "cell_type": "markdown",
      "metadata": {
        "id": "ySkliCNYXQd5",
        "colab_type": "text"
      },
      "source": [
        "<H1 > Welcome to Python Programming for Data Science: A 2-week Crash Course</H1>\n",
        "\n",
        "<p align=\"center\">\n",
        "  <img src=\"https://blog.finxter.com/wp-content/uploads/2019/08/python-logo-master-v3-TM-flattened-Kopie.png\">\n",
        "</p>\n",
        "\n",
        "Hello. My name is [Ridwan Salahuddeen](https://www.linkedin.com/in/ridwan-salahuddeen-b00396153/) and I shall be taking you through on this course.\n",
        "\n",
        "<h3>Profile:</h3>\n",
        "<blockquote>\n",
        "<p>Ridwan Salahuddeen is Machine Learning Engineer with Access Bank Plc with oen of his most notable achievements being a loan predictive model. He has previously worked as an assistant Branch Service Head in Abuja until early 2019. Before joining the bank, he was a teacher at Happy Day International School where he made a notable digital reform - automating assessment entry and result computation. He has a first degree in Electronic and Electrical Engineering from Ladoke Akintola University of Technology in 2015.</p>\n",
        "</blockquote>\n",
        "      \n",
        "\n",
        "### Prologue:\n",
        "This initiative came to fore as a result of the Covid 19 pandemic that has left most people out of work and unable to move around. So, I thought that this could be a great opportunity for people to learn new skills in preparation for the likely aftermath of this pandemic when it finally ends.\n",
        "\n"
      ]
    },
    {
      "cell_type": "markdown",
      "metadata": {
        "id": "LlUIqC7QcU0b",
        "colab_type": "text"
      },
      "source": [
        "## Table of Contents\n",
        "\n",
        "<font >\n",
        "<ol>\n",
        "<li> <a href = \"https://colab.research.google.com/drive/1TX0_ias1kMIJ1r3T-ST4e0G-Z4548iZI\">Introduction to Programming - History </a>\n",
        "<li> <a href = \"https://colab.research.google.com/drive/1TX0_ias1kMIJ1r3T-ST4e0G-Z4548iZI\">Development Environment - Setup </a>\n",
        "      <ul>\n",
        "      <li> Python Installation and IDE\n",
        "      <li> Jupyter Notebook and Anaconda Distribution Installation\n",
        "      <li> Google Collaboratory\n",
        "      </ul>\n",
        "<li> <a href = \"https://colab.research.google.com/drive/1cTdtqcGxYcWIM04tSPmNWgDJJusfJNb3\">Using Python as a Calculator </a>\n",
        "<li> <a href = \"https://colab.research.google.com/drive/1aQrYLNH3tC7338tT26rm5c2NVaQe7oIw\">For and While Loops </a>\n",
        "<li> <a href = \"https://colab.research.google.com/drive/1_xsOc570xSQ-4d29vAdYq8X0wt5zCBp9\">If , Break, Pass and Continue Statements</a>\n",
        "<li> Built-in Functions and Defining Functions and Recursion\n",
        "<li> Data Structures\n",
        "<li> Input/Output Operations - Handling Text Files\n",
        "<li> Errors and Exceptions\n",
        "<li> Modules\n",
        "</ol>\n",
        "</font>"
      ]
    },
    {
      "cell_type": "markdown",
      "metadata": {
        "id": "AX_AUhHJ7mmK",
        "colab_type": "text"
      },
      "source": [
        "# CAPSTONE 2 (FINAL)\n",
        "\n",
        "Scenario: Your client, Happy Day International School have beeen impressed with the solution you provided for them regarding the automation of students' records. However, they have noticed some inefficiencies in the current approach and are reaching out to you with a new request.\n",
        "\n",
        "They have found need to provide inputs as separate lists for and nested lists for things like students' names, test scores, etc., to be quite cumbersome and inefficient. They noted however, that a new assessment system allows them to get the report of all students' performance as a single file of comma-separated values (csv). They have now reached back to you for a solution which returns the same output as from previous project, but only requires a single csv file with a format shown below:\n",
        "\n",
        "```\n",
        "Name, Surname, Age, Class, English Test, English Exam, Math Test, Math Exam, ...\n",
        "Ali, Kabir, 12, JSS 2, 23, 44, 20, 51, ...\n",
        "Shola, Tofunmi, 13, JSS 2, 21, 49, 18, 55, ...\n",
        "```\n",
        "\n",
        "**Note: The number of students is not constant (it can be as few as 1 and no upper limit). Also, the number of subjects is not restricted - it can be as few as 1 and as many as you can think of.**\n",
        "\n",
        "Also note that you are not allowed to use **Pandas DataFrame**\n",
        "\n",
        "## Input\n",
        "> Your final function that puts together all the other functions should accept the **file path to a single csv file** as input.\n",
        "\n",
        "## Expected Output:\n",
        "> summary of each student's performance as a report\n",
        "\n",
        "> summary of the class' performance at the end.\n",
        "\n",
        "> Include age in the summary report of each student, and average age for the summary of the class' performance.\n",
        "\n",
        "\n",
        "This project is built on [Capstone 1 Project](https://colab.research.google.com/drive/1dX3ENl5NmRC-PtQ-fgMfA1aVPTSHYxqH?usp=sharing).\n",
        "\n",
        "```\n",
        "Sample output:\n",
        "\n",
        "Ali Kabir\n",
        "Age:  12\n",
        "             Subject:  |Score   |Grade\n",
        "________________________________________\n",
        "             English:  |67      |B\n",
        "         Mathematics:  |71      |A\n",
        "\n",
        "             Average:  |69.0    |B\n",
        "\n",
        " ++++++++++++++++++++++++++++++++++++++++\n",
        "\n",
        "Shola Tofunmi\n",
        "Age:   13\n",
        "             Subject:  |Score   |Grade\n",
        "________________________________________\n",
        "             English:  |70      |A\n",
        "         Mathematics:  |73      |A\n",
        "\n",
        "             Average:  |71.5    |A\n",
        "\n",
        " ++++++++++++++++++++++++++++++++++++++++\n",
        "\n",
        "        Average age:  |12.5\n",
        "       Average Class\n",
        "        Performance:  |70.25    |A\n",
        "```\n",
        "\n",
        "\n",
        "**Note:** Assume total obtainable score for each subject is 100\n",
        "\n",
        "## IMPORTANT TIPS\n",
        "\n",
        "1. When testing bits of code out, always use a new code cell.\n",
        "2. Loops can be tricky to understand. You may have try to execute a loop by hand writing it to understand how the sequence is if you struggle to piece it together in your head.\n",
        "3. I have added codes to the TODO cells that will test the functions you have written. Steer away from modifying that portion of code. The  code will simply return True if all is OK with your codee.\n",
        "\n",
        "\n",
        "> The project gives an opportunity to define and use functions.\n",
        "I have started most of the functions, you only need to complete the code\n",
        "\n",
        "> It is important to break down the tasks into separate functions rather\n",
        "than trying to execute everything in a single block of code\n"
      ]
    },
    {
      "cell_type": "markdown",
      "metadata": {
        "id": "n-L2Is17kGDa",
        "colab_type": "text"
      },
      "source": [
        "# Code Checking\n",
        "\n",
        "I have added codes that will do a preliminary check on your defined functions ussing assert. Assert returns **NOTHING** if your function matches the one in my solution, or returns error if it does not.\n",
        "\n",
        "**NB: Always run this line of code when you start or open this notebook. It enables the code checking function. If you are NOT using Google Colaboratory to run this project, you will need to comment out the first line of code in the cell below.**"
      ]
    },
    {
      "cell_type": "code",
      "metadata": {
        "id": "Q9s6mMvBh4AE",
        "colab_type": "code",
        "colab": {}
      },
      "source": [
        "import requests\n",
        "out = requests.get(\"https://raw.githubusercontent.com/Ridzy619/Datafain/master/parser.py\").content.decode()\n",
        "with open(\"checker.py\", 'w') as f:\n",
        "  f.write(out)\n",
        "\n",
        "# Always run the code above each time you start your runtime\n",
        "\n",
        "# The code below generates the students records randomly\n",
        "import checker\n",
        "checker.number_of_students = 10 # Feel free to change the number of students\n",
        "\n",
        "checker.generate_data()"
      ],
      "execution_count": 0,
      "outputs": []
    },
    {
      "cell_type": "markdown",
      "metadata": {
        "id": "wue_u3gmraOA",
        "colab_type": "text"
      },
      "source": [
        "## First task is to parse the csv file.\n",
        "\n",
        "It is advisable to pasrse the csv into the format of the previous project to make it easy to re-use the functions you have already defined there. Although, you have the freedom to be expressive in your choice."
      ]
    },
    {
      "cell_type": "code",
      "metadata": {
        "id": "7a-cr0wlr9H2",
        "colab_type": "code",
        "colab": {}
      },
      "source": [
        "# Function that takes a csv file and parses it into lists\n",
        "\n",
        "# NOTE: Some of the variables you are to define may need more than one line.\n",
        "# Feel free to add new lines of code as the need arises.\n",
        "\n",
        "def parse_file(file = 'students_records.txt'): #Do not modify the function name\n",
        "  with open(file, 'r') as f:\n",
        "\n",
        "      # TODO: Complete the code below\n",
        "      # Read first line containing headers and split it at ',' into a list\n",
        "      header = None \n",
        "      # Since Each subject will have test and exam (e.g. English Test, English Exam), pick just one.\n",
        "      # Use list slicing and stepping\n",
        "      subjects = None \n",
        "      \n",
        "      # use list comprehension to remove 'test' part of the subject names by splitting at \" \"\n",
        "      # Use strip to remove any white spaces before and after each item and use split to separate the text into two parts(e.g., \"English\", \"Test\")\n",
        "      subjects = None\n",
        "\n",
        "      # -- Do not modify the code below -- #\n",
        "      students = []\n",
        "      test_scores = []\n",
        "      exam_scores = []\n",
        "      ages = []\n",
        "      class_ = []\n",
        "      # -- Do not modify above this line -- #\n",
        "      for line in f:\n",
        "          # Remove the new line character at the end of each line\n",
        "          line = line.strip(\"\\n\")\n",
        "          \n",
        "          # TODO\n",
        "          # Each line is comma separated values of a student's details. Separate each line into a list of items accessible by indices\n",
        "          line = None\n",
        "\n",
        "          stud_fullname = None # Get student's full name\n",
        "\n",
        "          stud_age = None # Get student's age. Ensure you convert each to int          \n",
        "\n",
        "          tests = None #  Get all test scores for student. Ensure you convert each to float\n",
        "          \n",
        "          exams = None #  Get all test scores for student. Ensure you convert each to float\n",
        "\n",
        "          stud_class = None # Get the student's class\n",
        "\n",
        "          # -- Do not modify below this line -- #\n",
        "          test_scores.append(tests) # Append to the list of test scores for all students\n",
        "          ages.append(stud_age.strip()) # Append to students' ages list\n",
        "          students.append(stud_fullname) # Append to the list of students' names\n",
        "          exam_scores.append(exams) # Append to the list of test scores for all students\n",
        "          class_.append(stud_class.strip())\n",
        "  return students, subjects, test_scores, exam_scores, ages, class_\n",
        "\n",
        "# Test your function\n",
        "file_name = 'students_records.txt' # This file must have been generated if you ran the first cell\n",
        "students, subjects, test_scores, exam_scores, ages, class_ = parse_file(file_name)"
      ],
      "execution_count": 0,
      "outputs": []
    },
    {
      "cell_type": "code",
      "metadata": {
        "id": "oKQDc6TD0qJR",
        "colab_type": "code",
        "colab": {}
      },
      "source": [
        "# The code below checks if you have implemented parse_function it correctly\n",
        "# -- DO NOT MODIFY -- #\n",
        "file_name = 'students_records.txt'\n",
        "checker.check_parser(parse_file, file_name)"
      ],
      "execution_count": 0,
      "outputs": []
    },
    {
      "cell_type": "markdown",
      "metadata": {
        "id": "wNCOfSq4UWxp",
        "colab_type": "text"
      },
      "source": [
        "## Create a grader function\n",
        "\n",
        "You can copy your solution from the previous assignment.\n",
        "\n",
        "\n",
        "Example inputs and outputs are given below.\n",
        "```\n",
        "Input: 56\n",
        "\n",
        "Output: \"C\"\n",
        "```"
      ]
    },
    {
      "cell_type": "code",
      "metadata": {
        "id": "FSApfxuX9BBd",
        "colab_type": "code",
        "colab": {}
      },
      "source": [
        "def grader(score):\n",
        "  \n",
        "  # Your code goes here\n",
        "\n",
        "  return None\n",
        "\n",
        "\n",
        "# Test code\n",
        "assert checker.grader(50) == grader(50), 'Your solution is incorrect'"
      ],
      "execution_count": 0,
      "outputs": []
    },
    {
      "cell_type": "markdown",
      "metadata": {
        "id": "c5EG5kWPBHdQ",
        "colab_type": "text"
      },
      "source": [
        "Define a function that calculates the total of test and exam scores from the given lists.\n",
        "\n",
        "Input:\n",
        "```\n",
        "test_scores: [[16, 24], [23, 20]]\n",
        "\n",
        "exam_scores: [[48, 56], [61, 59]]\n",
        "```\n",
        "\n",
        "Ouput:\n",
        "```\n",
        "[[64, 80], [84, 79]]\n",
        "```"
      ]
    },
    {
      "cell_type": "code",
      "metadata": {
        "id": "T05UwCBQBP7_",
        "colab_type": "code",
        "colab": {}
      },
      "source": [
        "def total(test_scores, exam_scores):\n",
        "  '''\n",
        "  The output will be a list of lists of subject scores of each student\n",
        "  e.g., [[64, 70], [84, 79]] for the example above. The list is of each\n",
        "  student and the sublist is of each subject\n",
        "  '''\n",
        "  # Create a list of total scores of each student\n",
        "  stud_total_scores = []\n",
        "  for stud_tests, stud_exams in zip(test_scores, exam_scores):\n",
        "\n",
        "    # Create a list of total scores for each subject\n",
        "    subject_totals = []\n",
        "    for sub_test, sub_exam in zip(stud_tests, stud_exams):\n",
        "\n",
        "      # TODO\n",
        "      # Append the sum of test and exam scores to subject totals variable\n",
        "      pass\n",
        "    # TODO\n",
        "    # Append the subject totals for each student to the stud_total_scores variable.\n",
        "  return None\n",
        "\n",
        "# Test code\n",
        "assert checker.total([[1,2], [3,5]], [[1,2], [3,5]]) == total([[1,2], [3,5]],[[1,2], [3,5]]), 'Your solution is incorrect'"
      ],
      "execution_count": 0,
      "outputs": []
    },
    {
      "cell_type": "markdown",
      "metadata": {
        "id": "ko_3J48BI372",
        "colab_type": "text"
      },
      "source": [
        "## Match Subjects to Scores\n",
        "\n",
        "Define a function that matches subjects and their corresponding scores in total_scores list for each student:\n",
        "\n",
        "Input:\n",
        "```\n",
        "subjects: ['Mathematics', 'English']\n",
        "total_scores: [[64, 80], [84, 79]]\n",
        "```\n",
        "Output:\n",
        "```\n",
        "[[('Mathematics', 64), ('English', 80)], [('Mathematics', 84), ('English', 79)]]\n",
        "```"
      ]
    },
    {
      "cell_type": "code",
      "metadata": {
        "id": "a9Lc0aKbFs0C",
        "colab_type": "code",
        "colab": {}
      },
      "source": [
        "def stud_scores(subjects, total_scores):\n",
        "\n",
        "  # Create an empty list of stud_scores\n",
        "  stud_scores = []\n",
        "\n",
        "  # Loop through the list of scores of each student and zip it with the subjects list\n",
        "  # e.g: zip ['Mathematics', 'English'] and [64, 80]; zip ['Mathematics', 'English'] and [84, 79]\n",
        "  for sub_scores in total_scores:\n",
        "    pass\n",
        "    # TODO\n",
        "    # Zip each subject score with subjects list to match them up\n",
        "    \n",
        "    \n",
        "    # TODO\n",
        "    # Append each zipped object to the list variable created above\n",
        "  \n",
        "\n",
        "  return stud_scores\n",
        "\n",
        "\n",
        "# Test code\n",
        "assert checker.stud_scores(['Mathematics', 'English'], [[64, 80], [84, 79]]) == stud_scores(['Mathematics', 'English'], [[64, 80], [84, 79]])"
      ],
      "execution_count": 0,
      "outputs": []
    },
    {
      "cell_type": "markdown",
      "metadata": {
        "id": "rk2Z3uLVLAsc",
        "colab_type": "text"
      },
      "source": [
        "Define a function that prints each student's result in a well formatted manner as shown below.\n",
        "\n",
        "\n",
        "input:\n",
        "```\n",
        "names of students: ['Aliyu Komolafe', 'Nonsa Chidi']\n",
        "subject scores: [[('Mathematics', 64), ('English', 80)], [('Mathematics', 84), ('English', 79)]]\n",
        "```\n",
        "\n",
        "Ouput:\n",
        "```\n",
        "Aliyu Komolafe\n",
        "             Subject:  |Score   |Grade\n",
        "________________________________________\n",
        "         Mathematics:  |64      |B\n",
        "             English:  |80      |A\n",
        "\n",
        "Nonsa Chidi\n",
        "             Subject:  |Score   |Grade\n",
        "________________________________________\n",
        "         Mathematics:  |84      |A\n",
        "             English:  |79      |A\n",
        "```"
      ]
    },
    {
      "cell_type": "code",
      "metadata": {
        "id": "fgLusHNMKsMD",
        "colab_type": "code",
        "colab": {}
      },
      "source": [
        "def pprint(names, stud_scores, file): # file argument allows us to specify the file we want out output written to\n",
        "  \n",
        "  print(f'{\"Happy Day International School\":^46}')\n",
        "  # Create a variable for total calss average that gets update with the average score of each student at the loop below executes\n",
        "  class_average_sum = 0\n",
        "\n",
        "  # Loop through names and student scores in order to get the scores of all the subjects for each student\n",
        "  for name, sub_scores in zip(names, stud_scores):\n",
        "    \n",
        "    # Create a variable that averages the student's performance\n",
        "    stud_scores_sum = 0\n",
        "\n",
        "    # TODO\n",
        "    # Print the student's name\n",
        "    \n",
        "\n",
        "    # Print the headings and format it with appropriate spacing\n",
        "    print(f'{\"Subject\":>20}:  |{\"Score\":<6}  |{\"Grade\"}')\n",
        "    print(\"_\" * 40) # Just a dash line\n",
        "\n",
        "    # Loop through each (subject, score) tuple pair in the list sub_scores and print each subject and corresponding score.\n",
        "    for subject, score in sub_scores:\n",
        "\n",
        "      # Print and format the subjects, score and grade of each subject\n",
        "      print(f'{subject:>20}:  |{score:<6}  |{grader(score)}')\n",
        "\n",
        "      # Adding each subject's score to the stud_average variable\n",
        "      stud_scores_sum += score\n",
        "    \n",
        "    # TODO\n",
        "    # Calculate the mean score for each student\n",
        "    # Hint: use len() function to get the total number of subjects\n",
        "\n",
        "    \n",
        "    print()\n",
        "    print(f'{\"Average\":>20}:  |{average:<6}  |{grader(average)}')\n",
        "    print(\"\\n\", \"+\" * 40, end = '\\n'*2)\n",
        "\n",
        "    # Add average of each student to the class_average_sum\n",
        "    class_average_sum += average\n",
        "  \n",
        "  # Calculate the class mean\n",
        "  class_average = class_average_sum/len(names)\n",
        "  print(f'{\"Average Class\":>20}\\n{\"Performance:\":>20}   |{class_average: <6}  |{grader(class_average)}')\n",
        "  "
      ],
      "execution_count": 0,
      "outputs": []
    },
    {
      "cell_type": "code",
      "metadata": {
        "id": "hKMABvD5LzQQ",
        "colab_type": "code",
        "colab": {}
      },
      "source": [
        "pprint(['Aliyu Komolafe', 'Nonsa Chidi'] , [[('Mathematics', 64), ('English', 80)], [('Mathematics', 84), ('English', 79)]])"
      ],
      "execution_count": 0,
      "outputs": []
    },
    {
      "cell_type": "markdown",
      "metadata": {
        "id": "6yesn5-vVfF9",
        "colab_type": "text"
      },
      "source": [
        "# PUTTING EVERYTHING TOGETHER"
      ]
    },
    {
      "cell_type": "code",
      "metadata": {
        "id": "EnvTZueaVej3",
        "colab_type": "code",
        "colab": {}
      },
      "source": [
        "def process_result(file_path, file = \"Project_output.txt\"):\n",
        "  names, subjects, test_scores, exam_scores, ages = parser(file_path)\n",
        "  # Get total scores of tests and exams\n",
        "  total_scores = total(test_scores, exam_scores)\n",
        "\n",
        "  # Get a mapping of subjects to total scores\n",
        "  student_scores = stud_scores(subjects, total_scores)\n",
        "\n",
        "  # Print out a formatted ouput of report\n",
        "  pprint(names, student_scores, file)"
      ],
      "execution_count": 0,
      "outputs": []
    },
    {
      "cell_type": "markdown",
      "metadata": {
        "id": "0-CMXQS14yG1",
        "colab_type": "text"
      },
      "source": [
        "# FINAL TEST\n",
        "\n",
        "The cell below tests your code on sample inputs"
      ]
    },
    {
      "cell_type": "code",
      "metadata": {
        "id": "RNrgeqoOeOrA",
        "colab_type": "code",
        "colab": {}
      },
      "source": [
        "process_result(file_path, file = \"Project_output.txt\")"
      ],
      "execution_count": 0,
      "outputs": []
    }
  ]
}